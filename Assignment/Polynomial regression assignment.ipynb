{
 "cells": [
  {
   "cell_type": "code",
   "execution_count": null,
   "metadata": {
    "id": "H6ZVJmk4Zrp-"
   },
   "outputs": [],
   "source": [
    "import os\n",
    "import matplotlib.pyplot as plt\n",
    "import numpy as np\n",
    "from matplotlib import cm\n",
    "import time\n",
    "import pandas as pd"
   ]
  },
  {
   "cell_type": "code",
   "execution_count": null,
   "metadata": {
    "id": "EvWazlnqZrp_"
   },
   "outputs": [],
   "source": [
    "#imports for interactive plots\n",
    "\n",
    "from __future__ import print_function\n",
    "from ipywidgets import interact, interactive, fixed, interact_manual\n",
    "import ipywidgets as widgets"
   ]
  },
  {
   "cell_type": "code",
   "execution_count": null,
   "metadata": {
    "id": "cRX1TOQdZrp_"
   },
   "outputs": [],
   "source": [
    "#imports for sklearn\n",
    "\n",
    "import sklearn as sk\n",
    "from sklearn.datasets import make_circles\n",
    "from sklearn.linear_model import LinearRegression\n",
    "from sklearn.preprocessing import PolynomialFeatures\n",
    "from sklearn.kernel_ridge import KernelRidge"
   ]
  },
  {
   "cell_type": "markdown",
   "metadata": {
    "id": "o8e7mbUTZrp_"
   },
   "source": [
    "In this problem we will learn how to use polynomial features to learn nonlinear classification\n",
    "boundaries.\n",
    "Previously, we found that linear regression can\n",
    "be quite effective for classification. We applied it in the setting where the training data points\n",
    "were approximately linearly separable. The term “linearly separable” in classification means there\n",
    "exists a hyperplane such that most of the training data points in the first class are on one side of the\n",
    "hyperplane and most training data points in the second class are on the other side of the hyperplane.\n",
    "\n",
    "However, often times in practice classification datasets are not linearly separable in their native\n",
    "representation. In such cases we can often find a representation that is linearly separable by augmenting the original data with appropriate features. This “lifting” embeds the data points into a higher\n",
    "dimensional space where they are more likely to be linearly separable.\n",
    "In this problem we consider several simple datasets of points (x1\n",
    ", x2) ∈ R^2\n",
    ", each associated with a binary\n",
    "label bi which is −1 or +1. We then apply what we learned on a multi-class classification problem with 11 raw features."
   ]
  },
  {
   "cell_type": "markdown",
   "metadata": {
    "id": "DA_g2ty_AjAu"
   },
   "source": [
    "# Section 0: Helper functions"
   ]
  },
  {
   "cell_type": "markdown",
   "metadata": {
    "id": "PXo8vNGBIGTC"
   },
   "source": [
    "**Part 1, 2, 3**: In this part, we provide some helper functions for regression problems. Complete the missing codes in assemble_feature(),poly_regression(), classify() and accuracy_percentage() based on the description of the functions"
   ]
  },
  {
   "cell_type": "code",
   "execution_count": null,
   "metadata": {
    "id": "oYuNZ0RhZrp_"
   },
   "outputs": [],
   "source": [
    "# helper functions\n",
    "def draw_boundary(w,tol=1e-4,reg_type='linear',degree=2,n_grid =1000): \n",
    "    \"\"\"this function draws the regression decision boundary\"\"\"\n",
    "    x1_min = -2\n",
    "    x1_max = 2\n",
    "    x2_min =-2\n",
    "    x2_max =2\n",
    " \n",
    "    grid = np.zeros((n_grid*n_grid,2))\n",
    "    temp1 = np.linspace(x1_min,x1_max,n_grid)\n",
    "    temp2 = np.linspace(x2_min,x2_max,n_grid)\n",
    "    \n",
    "    for i in range(n_grid):\n",
    "        grid[i*n_grid:(i+1)*n_grid,0] =temp1\n",
    "        grid[i*n_grid:(i+1)*n_grid,1] = np.ones(n_grid)*temp2[i]\n",
    "        \n",
    "    if reg_type=='linear':    \n",
    "        indicators =np.abs(grid.dot(w))<tol \n",
    "    elif reg_type=='poly':\n",
    "        phi_grid = assemble_feature(grid,degree)\n",
    "        indicators =np.abs(phi_grid.dot(w))<tol\n",
    "\n",
    "    plt.scatter(grid[indicators, 0], grid[indicators, 1])\n",
    "    pass\n",
    "\n",
    "\n",
    "def draw_boundary_kernel(w,X_train,tol=1e-4,reg_type='linear',degree=2,n_grid =200): \n",
    "    \"\"\" this function draws the kernel regression decision boundary\"\"\"\n",
    "    x1_min = -2\n",
    "    x1_max = 2\n",
    "    x2_min =-2\n",
    "    x2_max =2\n",
    "     \n",
    "    grid = np.zeros((n_grid*n_grid,2))\n",
    "    temp1 = np.linspace(x1_min,x1_max,n_grid)\n",
    "    temp2 = np.linspace(x2_min,x2_max,n_grid)\n",
    "    \n",
    "    for i in range(n_grid):\n",
    "        grid[i*n_grid:(i+1)*n_grid,0] =temp1\n",
    "        grid[i*n_grid:(i+1)*n_grid,1] = np.ones(n_grid)*temp2[i]\n",
    "        \n",
    "    if reg_type=='linear':    \n",
    "        indicators =np.abs(grid.dot(w))<tol \n",
    "    elif reg_type=='poly':\n",
    "        phi_grid = assemble_feature(grid,degree)\n",
    "        indicators =np.abs(phi_grid.dot(w))<tol\n",
    "    elif reg_type=='poly_kernel':\n",
    "        pred = poly_kernel(grid, X_train.T, degree) @ w\n",
    "        indicators = np.abs(pred)<tol\n",
    "    plt.scatter(grid[indicators, 0], grid[indicators, 1])\n",
    "    pass\n",
    "\n",
    "\n",
    "def poly_regression(X_train, y_train, X_test, lambda_=0):\n",
    "    \"\"\" this function solve regression problem with X_train and y_train, and then makes a prediction with X_test \"\"\"\n",
    "    \"\"\" returns both the predicted values and the weight used \"\"\"\n",
    "    #TO DO 0 start\n",
    "\n",
    "    #TO DO 0 end\n",
    "    return y_predict, w\n",
    "\n",
    "\n",
    "\n",
    "\n",
    "def classify(ypred):\n",
    "    '''This function classifies the predicted vector ypred into two classes {-1, +1}'''\n",
    "    #TO DO 1 start\n",
    "\n",
    "    #TO DO 1 end\n",
    "    return ypred\n",
    "\n",
    "def accuracy_percentage(y_true, y_predict):\n",
    "    '''This function calculates percentage of correct prediction'''\n",
    "    #TO DO 2 start\n",
    "\n",
    "    #TO DO 2 end\n",
    "\n",
    "def assemble_feature(x, D):\n",
    "    '''This function takes in the raw data matrix and return a data matrix with d degree polynomials'''\n",
    "    #TO DO 3 start\n",
    "\n",
    "    #TO DO 3 end"
   ]
  },
  {
   "cell_type": "markdown",
   "metadata": {
    "id": "YIw4a7I6Zrp_"
   },
   "source": [
    "# Section 1: Building the algorithm with Circle data"
   ]
  },
  {
   "cell_type": "markdown",
   "metadata": {
    "id": "FJcGzxykZrp_"
   },
   "source": [
    "**Part 4(i)** Visualize the data: Let's import our Circle data and visualize it. Do you expect linear or polynomial regression to work better? Why?"
   ]
  },
  {
   "cell_type": "code",
   "execution_count": null,
   "metadata": {
    "colab": {
     "base_uri": "https://localhost:8080/",
     "height": 265
    },
    "id": "WqevdjDkZrp_",
    "outputId": "71324567-f333-4714-f31a-7789067129c9"
   },
   "outputs": [],
   "source": [
    "# Generate data and relabel points so classes are {-1, +1}\n",
    "X = np.load(\"X_circle.npy\")\n",
    "y = np.load(\"y_circle.npy\")\n",
    "n = y.shape[0]\n",
    "\n",
    "# Split data into training, validation, and test sets\n",
    "ratio_train = 0.625\n",
    "ratio_val =0.125\n",
    "ratio_test =0.25\n",
    "n_train = int(ratio_train*n)\n",
    "n_val = int(ratio_val*n)\n",
    "n_test = int(ratio_test*n)\n",
    "X_train = X[0:n_train, 0:2]\n",
    "y_train = y[0:n_train]\n",
    "\n",
    "X_val = X[n_train:n_train+n_val, 0:2]\n",
    "y_val = y[n_train:n_train+n_val]\n",
    "\n",
    "X_test = X[n_train+n_val:, 0:2]\n",
    "y_test = y[n_train+n_val:]\n",
    "\n",
    "# Visualize data\n",
    "def visualize_dataset(X, y):\n",
    "    plt.scatter(X[y < 0.0, 0], X[y < 0.0, 1])\n",
    "    plt.scatter(X[y > 0.0, 0], X[y > 0.0, 1])\n",
    "    plt.show()\n",
    "\n",
    "visualize_dataset(X, y)"
   ]
  },
  {
   "cell_type": "markdown",
   "metadata": {
    "id": "fd-oFKdB6OfP"
   },
   "source": [
    "**Part 4(i)**: [[Your observations]] \n",
    "\n",
    "Answer: "
   ]
  },
  {
   "cell_type": "markdown",
   "metadata": {
    "id": "DoQFtR8BZrqC"
   },
   "source": [
    "**Part 4(ii)**: Complete the following part to see what happens when we do regression directly with raw features. You may find the helper functions in Section 0 useful. What do you see? Is this consistent with what you expected?"
   ]
  },
  {
   "cell_type": "code",
   "execution_count": null,
   "metadata": {
    "colab": {
     "base_uri": "https://localhost:8080/",
     "height": 282
    },
    "id": "UjQXSSBsZrqC",
    "outputId": "b99f7f3f-231b-4cda-ab23-9ec3e5f7b0c8"
   },
   "outputs": [],
   "source": [
    "# Model a linear regression\n",
    "\n",
    "#using linear regression to train the training data set and make prediction on the test set\n",
    "# TO DO 4 start \n",
    "\n",
    "# TO DO 4 end\n",
    "\n",
    "print(\"Test accuracy on the test set is \", prediction_acc)\n",
    "draw_boundary(w1,1e-4)\n",
    "visualize_dataset(X, y)"
   ]
  },
  {
   "cell_type": "markdown",
   "metadata": {
    "id": "SJ6E3Rig6EEF"
   },
   "source": [
    "**Part 4(ii)**: [[Your observations]]\n",
    "\n",
    "Answer: "
   ]
  },
  {
   "cell_type": "markdown",
   "metadata": {
    "id": "EPgU-BfaZrqC"
   },
   "source": [
    "**Part 5**: Now complete the missing codes to lift our data with polynomial features, and see how it helps with learning process. Feel free to play with the degree of the polynomial features but report the test accuracy for a 2-degree polynomial. Is this consistent with what you expected?"
   ]
  },
  {
   "cell_type": "code",
   "execution_count": null,
   "metadata": {
    "colab": {
     "base_uri": "https://localhost:8080/",
     "height": 282
    },
    "id": "rCKZZylFZrqC",
    "outputId": "37988fc7-111e-4523-80e7-fec3c1f7b010"
   },
   "outputs": [],
   "source": [
    "degree_poly = 2\n",
    "\n",
    "# Model a 2-degree polynomial regression\n",
    "# TO DO 5 start\n",
    "\n",
    "# TO DO 5 end\n",
    "\n",
    "print(\"Test accuracy on the test set is \", prediction_acc)\n",
    "draw_boundary(w2,1e-3,'poly',degree_poly)\n",
    "visualize_dataset(X, y)"
   ]
  },
  {
   "cell_type": "markdown",
   "metadata": {
    "id": "fQWJyYTC8QRE"
   },
   "source": [
    "**Part 5**: [[Your observations]]\n",
    "\n",
    "Answer: "
   ]
  },
  {
   "cell_type": "markdown",
   "metadata": {
    "id": "ULcs5ZA8ZrqD"
   },
   "source": [
    "**Part 6**: Below is an interactive plot showing the decision boundary with different degree of the polynomial features. Makes observations on how the decision boundary change as you increase the degree. Also, pay attention to the run time as the degree increases. Write your observations and comments below "
   ]
  },
  {
   "cell_type": "code",
   "execution_count": null,
   "metadata": {
    "colab": {
     "base_uri": "https://localhost:8080/",
     "height": 331,
     "referenced_widgets": [
      "251ea4889ec3426497340cca0fcf0608",
      "3c5234f2bfca4ecbacce06bfc4df1251",
      "80c1b0f256ee4497b4ec9289264a389c",
      "919a9feb658a47a99e447cb002701722",
      "2b00a9afceca4ca593c5483a05f95758",
      "feeb15973b08437fa24d1423482309a0",
      "ef450a0882094857b63233eba1a1a26d"
     ]
    },
    "id": "zZKa1o_rZrqD",
    "outputId": "48a3e861-5b6f-400e-a78f-2714757ce7da"
   },
   "outputs": [],
   "source": [
    "def interactive_poly(degree_poly):\n",
    "\n",
    "    Phi = assemble_feature(X_train, degree_poly)\n",
    "    Phitest = assemble_feature(X_test, degree_poly) \n",
    "\n",
    "    y_predict, w = poly_regression(Phi, y_train, Phitest, lambda_=0)\n",
    "    acc_perc = accuracy_percentage(y_test, classify(y_predict))\n",
    "\n",
    "    print(\"Test accuracy on the test set is \", acc_perc)\n",
    "    draw_boundary(w,1e-2,'poly',degree_poly)\n",
    "    visualize_dataset(X, y)\n",
    "    pass\n",
    "\n",
    "interact(interactive_poly,degree_poly=widgets.IntSlider(min=1, max=10, step=1, value=3))"
   ]
  },
  {
   "cell_type": "markdown",
   "metadata": {
    "id": "HaN16Hsv8JyE"
   },
   "source": [
    "**Part 6**: [[Your observations]] \n",
    "\n",
    "Answer: "
   ]
  },
  {
   "cell_type": "markdown",
   "metadata": {
    "id": "KpilHYPBpOgy"
   },
   "source": [
    "**Part 7**: Try different degrees of polynomials and try to find best degree using the validation process. Complete the following code to generate a plot of the prediction accuracy vs the degree of the polynomial. Comment on the difference between train accuracy and validation accuracy. Also write your observations on the run time plot"
   ]
  },
  {
   "cell_type": "code",
   "execution_count": null,
   "metadata": {
    "colab": {
     "base_uri": "https://localhost:8080/",
     "height": 851
    },
    "id": "hnt9K5kZZrqE",
    "outputId": "3643d8d0-e409-4675-e6a8-31ae11affab0"
   },
   "outputs": [],
   "source": [
    "LAMBDA = 0\n",
    "max_d =16\n",
    "\n",
    "accs_train =[]\n",
    "accs_val =[]\n",
    "run_times=[]\n",
    "for D in range(1, max_d):\n",
    "    start_time = time.process_time()\n",
    "    # Model a polynomial regression using train data and test on validation data\n",
    "    # TO DO 7 start:\n",
    "\n",
    "    # TO DO 7 end:\n",
    "\n",
    "    end_time = time.process_time()\n",
    "    run_times.append(end_time-start_time)\n",
    "    accs_train.append(acc_train)\n",
    "    accs_val.append(acc_val)\n",
    "\n",
    "# Plot train accuracy as a function of polynomial degree\n",
    "plt.plot(range(1,max_d),accs_train)\n",
    "plt.xlabel('Polynomial degree')\n",
    "plt.ylabel('Train accuracy (%)')\n",
    "plt.title('Train Accuracy vs the Degree')\n",
    "plt.show();\n",
    "\n",
    "# Plot validation accuracy as a function of polynomial degree\n",
    "plt.plot(range(1,max_d),accs_val)\n",
    "plt.title('Validation Accuracy vs the Degree')\n",
    "plt.xlabel('Polynomial degree')\n",
    "plt.ylabel('Validation accuracy (%)')\n",
    "plt.show();\n",
    "\n",
    "# Plot run time as a function of polynomial degree\n",
    "plt.plot(range(1,max_d),run_times)\n",
    "plt.title('Run time vs the Degree')\n",
    "plt.xlabel('Polynomial degree')\n",
    "plt.ylabel('Run time (s)')\n",
    "plt.show();"
   ]
  },
  {
   "cell_type": "markdown",
   "metadata": {
    "id": "W3P7_Yty_nLJ"
   },
   "source": [
    "**Part 7**: What is the best degree for this mdoel? Does this makes sense to you intuitively based on the shape of this data set?  Comment on how run time changes with the degree. Why is this happening?\n",
    "\n",
    "[[Your observations]]\n",
    "\n",
    "Answer: "
   ]
  },
  {
   "cell_type": "markdown",
   "metadata": {
    "id": "-mpmM97F7PpS"
   },
   "source": [
    "**Part 8**: Complete the following part to train on train and validation set, and evaluate on test set. Report the test accuracy "
   ]
  },
  {
   "cell_type": "code",
   "execution_count": null,
   "metadata": {
    "colab": {
     "base_uri": "https://localhost:8080/"
    },
    "id": "4mm846CgZrqE",
    "outputId": "b0160f4f-19c9-42e1-83d3-9bc5953e8859"
   },
   "outputs": [],
   "source": [
    "# Train model on train and validation set, evaluate on test set\n",
    "\n",
    "D = 3\n",
    "# TO DO 8 start:\n",
    "\n",
    "# TO DO 8 end:\n",
    "\n",
    "print(\"Prediction accuracy on the test set is \", accuracy_test)"
   ]
  },
  {
   "cell_type": "markdown",
   "metadata": {
    "id": "jUTg3VoFHX2b"
   },
   "source": [
    "**Part 9**: Now lets compare regression with polynomial features with polynomial kernel regression. Fill in the polynomial kernel equation i.e. create the gram matrix. Run the following codes, and write down your observations"
   ]
  },
  {
   "cell_type": "code",
   "execution_count": null,
   "metadata": {
    "colab": {
     "base_uri": "https://localhost:8080/",
     "height": 348,
     "referenced_widgets": [
      "28120954610c47d685474d3ec3b2704e",
      "6cbce2a645d04ea994eb32b07390fbae",
      "e379aa1baf4640f283518d8e8dda98e2",
      "48ea8c6541a34cfbab14438d2b67896e",
      "7ec18b59b6dc452083827453db68be1b",
      "2e2d2d92e5d2457dabc85f3bee097fe1",
      "ee3512014c9d4ffdbd188b9cc55b3f0d"
     ]
    },
    "id": "LF5d4SzIn5o1",
    "outputId": "c1fd3ed8-c5b5-48d2-dbb1-306d1ac347f0"
   },
   "outputs": [],
   "source": [
    "def poly_kernel(X, XT, D):\n",
    "    \"\"\"Create the polynomial order D kernel matrix from X and X^T\"\"\"\n",
    "    #TO DO 9 start:\n",
    "\n",
    "    #TO DO 9 end:\n",
    "    return K\n",
    "\n",
    "# Helper function for interactive plot\n",
    "def interactive_poly_kernel(D):\n",
    "  LAMBDA =0.001\n",
    "  K = poly_kernel(X_train, X_train.T, D) + LAMBDA * np.eye(X_train.shape[0])\n",
    "  w_k = np.linalg.solve(K, y_train)\n",
    "\n",
    "  ypred_train_k = poly_kernel(X_train, X_train.T, D) @ w_k\n",
    "  acc_train = accuracy_percentage(y_train, classify(ypred_train_k))\n",
    "  print(\"prediction accuracy on the train set is \", acc_train)\n",
    "\n",
    "  ypred_test_k = poly_kernel(X_test, X_train.T, D) @ w_k\n",
    "  acc_test = accuracy_percentage(y_test, classify(ypred_test_k))\n",
    "  print(\"prediction accuracy on the test set is \", acc_test)\n",
    "\n",
    "\n",
    "  draw_boundary_kernel(w_k,X_train,1e-1,'poly_kernel',D,200)\n",
    "  visualize_dataset(X, y)\n",
    "  pass\n",
    "\n",
    "# Visualize interactive plot for boundary by polynomial degree\n",
    "interact(interactive_poly_kernel,D=widgets.IntSlider(min=1, max=10, step=1, value=2))"
   ]
  },
  {
   "cell_type": "markdown",
   "metadata": {
    "id": "sUCLUqPPHlMd"
   },
   "source": [
    "**Part 9**:\n",
    "[[Your observations]]\n",
    "\n",
    "Answer: "
   ]
  },
  {
   "cell_type": "markdown",
   "metadata": {
    "id": "YxtBoVSmXpQW"
   },
   "source": [
    "**Part 10**: Run the following codes to plot accuracy and run time vs the degree for kernel regression method. Compare and contrast accuracy and run time between polynomial kernel regression and regression with polynomial features. Write down your observations."
   ]
  },
  {
   "cell_type": "code",
   "execution_count": null,
   "metadata": {
    "colab": {
     "base_uri": "https://localhost:8080/",
     "height": 851
    },
    "id": "D60-fFYtXfRP",
    "outputId": "db5694b2-0283-4928-8a1d-2d9034730daa"
   },
   "outputs": [],
   "source": [
    "LAMBDA = 0.001\n",
    "max_d =16\n",
    "\n",
    "accs_train_k =[]\n",
    "accs_val_k =[]\n",
    "run_times_k=[]\n",
    "\n",
    "# Model polynomial regression with degree 1 through max_d for circle data\n",
    "for D in range(1, max_d):\n",
    "    start_time = time.process_time()\n",
    "\n",
    "    K = poly_kernel(X_train, X_train.T, D) + LAMBDA * np.eye(X_train.shape[0])\n",
    "    w_k = np.linalg.solve(K, y_train)\n",
    "\n",
    "    ypred_train_k = poly_kernel(X_train, X_train.T, D) @ w_k\n",
    "    acc_train = accuracy_percentage(y_train, classify(ypred_train_k))\n",
    "\n",
    "    ypred_val_k = poly_kernel(X_val, X_train.T, D) @ w_k\n",
    "    acc_val = accuracy_percentage(y_val, classify(ypred_val_k))\n",
    "\n",
    "\n",
    "    end_time = time.process_time()\n",
    "    run_times_k.append(end_time-start_time)\n",
    "    accs_train_k.append(acc_train)\n",
    "    accs_val_k.append(acc_val)\n",
    "\n",
    "# Plot train accuracy as a function of degree\n",
    "plt.plot(range(1,max_d),accs_train_k, label='Poly kernel regression')\n",
    "plt.plot(range(1,max_d),accs_train,label='Regression with poly features')\n",
    "plt.xlabel('Polynomial degree')\n",
    "plt.ylabel('Train accuracy (%)')\n",
    "plt.title('Train Accuracy vs the Degree')\n",
    "plt.legend(fontsize=12)\n",
    "plt.show();\n",
    "\n",
    "# Plot validation accuracy as a function of degree\n",
    "plt.plot(range(1,max_d),accs_val_k,label='Poly kernel regression')\n",
    "plt.plot(range(1,max_d),accs_val,label='Regression with poly features')\n",
    "plt.title('Validation Accuracy vs the Degree')\n",
    "plt.xlabel('Polynomial degree')\n",
    "plt.ylabel('Validation accuracy (%)')\n",
    "plt.legend(fontsize=12)\n",
    "plt.show();\n",
    "\n",
    "# Plot run time as a function of degree\n",
    "plt.plot(range(1,max_d),run_times_k,label='Poly kernel regression')\n",
    "plt.plot(range(1,max_d),run_times,label='Regression with poly features')\n",
    "plt.title('Run time vs the Degree')\n",
    "plt.xlabel('Polynomial degree')\n",
    "plt.ylabel('Run time (s)')\n",
    "plt.legend(fontsize=12)\n",
    "plt.show();\n"
   ]
  },
  {
   "cell_type": "markdown",
   "metadata": {
    "id": "ZfdkpfQXbJFF"
   },
   "source": [
    "**Part 10**:\n",
    "[[Your observations]]\n",
    "\n",
    "Answer: "
   ]
  },
  {
   "cell_type": "markdown",
   "metadata": {
    "id": "et8p-f8lB8ZB"
   },
   "source": [
    "# Section 2: Star data"
   ]
  },
  {
   "cell_type": "markdown",
   "metadata": {
    "id": "HIKHuLHa9rW7"
   },
   "source": [
    "Part 11: Let's try our developed algorithm with more complicated data boundary. Here is a different data set. Run the following block of codes to visualize the data. Intuitvely, what is your guess for best degree in this case. "
   ]
  },
  {
   "cell_type": "code",
   "execution_count": null,
   "metadata": {
    "colab": {
     "base_uri": "https://localhost:8080/",
     "height": 265
    },
    "id": "VKUtzS5HFDMY",
    "outputId": "5c355f4d-dfeb-405d-9b75-85b41a777164"
   },
   "outputs": [],
   "source": [
    "# Load data\n",
    "X_star = np.load(\"X_star.npy\")\n",
    "y_star = np.load(\"y_star.npy\")\n",
    "\n",
    "# Split into train and test data\n",
    "ratio_train = 0.8\n",
    "ratio_test =0.2\n",
    "\n",
    "n_train = int(ratio_train*len(y_star))\n",
    "\n",
    "n_test = int(ratio_test*len(y_star))\n",
    "X_star_train = X_star[0:n_train, 0:2]\n",
    "y_star_train = y_star[0:n_train]\n",
    "\n",
    "X_star_test = X_star[n_train:, 0:2]\n",
    "y_star_test = y_star[n_train:]\n",
    "\n",
    "# Visualize data\n",
    "visualize_dataset(X_star, y_star)\n",
    "\n"
   ]
  },
  {
   "cell_type": "markdown",
   "metadata": {
    "id": "PKEeY7ut0X_2"
   },
   "source": [
    "**Part 11**: [[Your observations]]\n",
    "\n",
    "Answer: "
   ]
  },
  {
   "cell_type": "markdown",
   "metadata": {
    "id": "rjANQ3DVQkwK"
   },
   "source": [
    "**Part 12**: Play with the interactive plot below and also study the accuracy plots. What is the best degree in this case? Why is it different from the best degree for previous data set? "
   ]
  },
  {
   "cell_type": "code",
   "execution_count": null,
   "metadata": {
    "colab": {
     "base_uri": "https://localhost:8080/",
     "height": 887,
     "referenced_widgets": [
      "51811963c0f6405fade5ef25a6797744",
      "7878d716b4d44deeb92fcf7df3a5f835",
      "f42ac48ac9ac4d748b865decb4155866",
      "e3f087f4982a49b798746fd60fdb45a6",
      "b08328b6e96f4ad48bd4f6fc75bbd2b2",
      "a1fa8a96f0774bd4b44fbae76493f83a",
      "b391865b6d4e418bbefeb9d1fa06ed45"
     ]
    },
    "id": "ZjwF8GUpoOFg",
    "outputId": "251fe63b-d0c3-4a72-87b4-545ff8e75975"
   },
   "outputs": [],
   "source": [
    "LAMBDA = 0.001\n",
    "max_d =16\n",
    "\n",
    "accs_train_star =[]\n",
    "accs_val_star =[]\n",
    "\n",
    "# Model star data boundary using polynomial regression with degree 1 through max_d\n",
    "for D in range(1, max_d):\n",
    "    # Use poly kernel to run a polynomial regression\n",
    "    K = poly_kernel(X_star_train, X_star_train.T, D) + LAMBDA * np.eye(X_star_train.shape[0])\n",
    "    w_k = np.linalg.solve(K, y_star_train)\n",
    "\n",
    "    ypred_train_k = poly_kernel(X_star_train, X_star_train.T, D) @ w_k\n",
    "    acc_train = accuracy_percentage(y_star_train, classify(ypred_train_k))\n",
    "\n",
    "    ypred_test_k = poly_kernel(X_star_test, X_star_train.T, D) @ w_k\n",
    "    acc_test = accuracy_percentage(y_star_test, classify(ypred_test_k))\n",
    "\n",
    "    accs_train_star.append(acc_train)\n",
    "    accs_val_star.append(acc_test)\n",
    "\n",
    "# Plot accuracies for Circle and Star data\n",
    "plt.plot(range(1,max_d),accs_train_k, label='Circular Data')\n",
    "plt.plot(range(1,max_d),accs_train_star,label='Star Data')\n",
    "plt.title('Train Accuracy vs the Degree')\n",
    "plt.xlabel('Polynomial degree')\n",
    "plt.ylabel('Train accuracy (%)')\n",
    "plt.legend(fontsize=12)\n",
    "plt.show();\n",
    "\n",
    "plt.plot(range(1,max_d),accs_val_k,label='Circular Data')\n",
    "plt.plot(range(1,max_d),accs_val_star,label='Star Data')\n",
    "plt.title('Validation Accuracy vs the Degree')\n",
    "plt.xlabel('Polynomial degree')\n",
    "plt.ylabel('Validation accuracy (%)')\n",
    "plt.legend(fontsize=12)\n",
    "plt.show();\n",
    "\n",
    "# Visualize interactive plot for how the boundary changes with respect to polynomial degree\n",
    "def interactive_star(D):\n",
    "  K = poly_kernel(X_star_train, X_star_train.T, D) + LAMBDA * np.eye(X_star_train.shape[0])\n",
    "  w_k = np.linalg.solve(K, y_star_train)\n",
    "\n",
    "  ypred_star_test = poly_kernel(X_star_test, X_star_train.T, D) @ w_k\n",
    "  acc_star = accuracy_percentage(y_star_test, classify(ypred_star_test))\n",
    "  print(\"prediction accuracy on the train set is \", acc_star)\n",
    "\n",
    "\n",
    "  draw_boundary_kernel(w_k,X_star_train,1e-1,'poly_kernel',D,200)\n",
    "  visualize_dataset(X_star, y_star)\n",
    "  pass\n",
    "\n",
    "interact(interactive_star,D=widgets.IntSlider(min=1, max=16, step=1, value=2))"
   ]
  },
  {
   "cell_type": "markdown",
   "metadata": {
    "id": "4mtAczLYQmXK"
   },
   "source": [
    "**Part 12**: [[Your observations]]\n",
    "\n",
    "Answer: "
   ]
  },
  {
   "cell_type": "markdown",
   "metadata": {
    "id": "11UHjaAeH-6N"
   },
   "source": [
    "# Section 3: Multiclass problem"
   ]
  },
  {
   "cell_type": "markdown",
   "metadata": {
    "id": "1KkAXnZ62T63"
   },
   "source": [
    "Part 13: Instead of two classes, we will have data points in four classes in this new dataset. The four class labels are -3,-1,1, and 3. That is, the class label yi for data point xi will take one of the above values depending on its class. Run the code below to visualize the data. Intuitively, what do you think the best degree will be?"
   ]
  },
  {
   "cell_type": "code",
   "execution_count": null,
   "metadata": {
    "colab": {
     "base_uri": "https://localhost:8080/",
     "height": 265
    },
    "id": "xni8ssaf3XDh",
    "outputId": "812a832a-07e3-43cd-f55e-acd267a67518"
   },
   "outputs": [],
   "source": [
    "# Load four class data\n",
    "X_four = np.load(\"X_four.npy\")\n",
    "y_four = np.load(\"y_four.npy\")\n",
    "\n",
    "# Split data into train and test\n",
    "ratio_train = 0.8\n",
    "ratio_test =0.2\n",
    "\n",
    "n_train = int(ratio_train*len(y_four))\n",
    "\n",
    "n_test = int(ratio_test*len(y_four))\n",
    "X_four_train = X_four[0:n_train, 0:2]\n",
    "y_four_train = y_four[0:n_train]\n",
    "\n",
    "X_four_test = X_four[n_train:, 0:2]\n",
    "y_four_test = y_four[n_train:]\n",
    "\n",
    "# Visualize data\n",
    "plt.scatter(X_four[y_four==-3, 0], X_four[y_four==-3, 1])\n",
    "plt.scatter(X_four[y_four==-1, 0], X_four[y_four==-1, 1])\n",
    "plt.scatter(X_four[y_four==1, 0], X_four[y_four==1, 1])\n",
    "plt.scatter(X_four[y_four==3, 0], X_four[y_four==3, 1])\n",
    "plt.show()"
   ]
  },
  {
   "cell_type": "markdown",
   "metadata": {
    "id": "q0c1w1pWQd0j"
   },
   "source": [
    "**Part 13**: [[Your observations]]\n",
    "\n",
    "Answer: "
   ]
  },
  {
   "cell_type": "markdown",
   "metadata": {
    "id": "ZLMyRnm77y5y"
   },
   "source": [
    "**Part 14**: Complete the classification function classify_four_classes(ypred) and run the following codes. Verify your guess on the best degree. Comment on what you find.\n",
    "\n",
    "\n"
   ]
  },
  {
   "cell_type": "code",
   "execution_count": null,
   "metadata": {
    "colab": {
     "base_uri": "https://localhost:8080/",
     "height": 1000,
     "referenced_widgets": [
      "be65a101b92c40a3951d237b529ce888",
      "c332e5f335e14aeca7f93cc091d4bdf8",
      "f3770fcc41d444ea9d7c2c6c08870115",
      "aada01e8cf7149b6b6541d56a7ea0ad7",
      "0f021154f8ba4b29bd00914152e96932",
      "c9533f01b8764d17b08ffc7eeef5c98a",
      "dfd13516095044be8d856a0c43723b48"
     ]
    },
    "id": "a5C-f0j_nGMc",
    "outputId": "7fafa226-9342-418b-ad93-add62a5445b2"
   },
   "outputs": [],
   "source": [
    "def classify_four_classes(ypred):\n",
    "# Classify ypred into labels {-3, -1, +1, +3} by creating reasonable boundaries\n",
    "    # TO DO 14 start: \n",
    "\n",
    "    # TO DO 14 end:\n",
    "    \n",
    "    return ypred\n",
    "\n",
    "# Visualize the true labels\n",
    "plt.scatter(X_four[y_four==-3, 0], X_four[y_four==-3, 1])\n",
    "plt.scatter(X_four[y_four==-1, 0], X_four[y_four==-1, 1])\n",
    "plt.scatter(X_four[y_four==1, 0], X_four[y_four==1, 1])\n",
    "plt.scatter(X_four[y_four==3, 0], X_four[y_four==3, 1])\n",
    "plt.title('Ground-truth Classification')\n",
    "plt.show()\n",
    "\n",
    "# Visualize how the classes change based on our polynomial regression model\n",
    "LAMBDA = 0.001\n",
    "def interactive_circles(D):\n",
    "  K = poly_kernel(X_four_train, X_four_train.T, D) + LAMBDA * np.eye(X_four_train.shape[0])\n",
    "  w_k = np.linalg.solve(K, y_four_train)\n",
    "\n",
    "  ypred_four_test = classify_four_classes(poly_kernel(X_four_test, X_four_train.T, D) @ w_k)\n",
    "  acc_four = accuracy_percentage(y_four_test, ypred_four_test)\n",
    "  \n",
    "  ypred = classify_four_classes(poly_kernel(X_four, X_four_train.T, D) @ w_k)\n",
    "\n",
    "  plt.scatter(X_four[ypred==-3, 0], X_four[ypred==-3, 1])\n",
    "  plt.scatter(X_four[ypred==-1, 0], X_four[ypred==-1, 1])\n",
    "  plt.scatter(X_four[ypred==1, 0], X_four[ypred==1, 1])\n",
    "  plt.scatter(X_four[ypred==3, 0], X_four[ypred==3, 1])\n",
    "  plt.title('Learned Classification')\n",
    "  plt.show()\n",
    "  print(\"Prediction accuracy on the test set is \", acc_four)\n",
    "  pass\n",
    "\n",
    "interact(interactive_circles,D=widgets.IntSlider(min=1, max=16, step=1, value=2))\n",
    "\n",
    "max_d =18\n",
    "accs_train_four =[]\n",
    "accs_test_four =[]\n",
    "\n",
    "# Model a polynomial regression for degrees 1 through max_d\n",
    "for D in range(1, max_d):\n",
    "    K = poly_kernel(X_four_train, X_four_train.T, D) + LAMBDA * np.eye(X_four_train.shape[0])\n",
    "    w_k = np.linalg.solve(K, y_four_train)\n",
    "\n",
    "    ypred_train_k = classify_four_classes(poly_kernel(X_four_train, X_four_train.T, D) @ w_k)\n",
    "    acc_train = accuracy_percentage(y_four_train, ypred_train_k)\n",
    "\n",
    "    ypred_test_k = classify_four_classes(poly_kernel(X_four_test, X_four_train.T, D) @ w_k)\n",
    "    acc_test = accuracy_percentage(y_four_test, ypred_test_k)\n",
    "\n",
    "    acc_train = accuracy_percentage(y_four_train, ypred_train_k)\n",
    "    acc_test = accuracy_percentage(y_four_test, ypred_test_k)\n",
    "\n",
    "    accs_train_four.append(acc_train)\n",
    "    accs_test_four.append(acc_test)\n",
    "\n",
    "# Visualize accuracy rates as a function of polynomial degree\n",
    "plt.plot(range(1,max_d),accs_train_four,label='Four Classes')\n",
    "plt.title('Train Accuracy vs the Degree')\n",
    "plt.xlabel('Polynomial degree')\n",
    "plt.ylabel('Train accuracy (%)')\n",
    "plt.show();\n",
    "\n",
    "plt.plot(range(1,max_d),accs_test_four,label='Four Classes')\n",
    "plt.title('Validation Accuracy vs the Degree')\n",
    "plt.xlabel('Polynomial degree')\n",
    "plt.ylabel('Validation accuracy (%)')\n",
    "plt.show();"
   ]
  },
  {
   "cell_type": "markdown",
   "metadata": {
    "id": "C6e0bhOk8Khh"
   },
   "source": [
    "**Part 14**: [[Your observations]]\n",
    "\n",
    "Answer: "
   ]
  },
  {
   "cell_type": "markdown",
   "metadata": {
    "id": "Z0l8RnZdZrqE"
   },
   "source": [
    "#Section 4: Training with wine data"
   ]
  },
  {
   "cell_type": "markdown",
   "metadata": {
    "id": "1U24To8vP4UY"
   },
   "source": [
    " The wine quality dataset archives a numerical description to 1600 different kinds of wine. There are 12 numerical values to describe the property of each wine in the dataset. The first 11 values can be seen as the input features. While the twelfth value is a integer output label varies from from 1 to 10, which evaluates the quality of each wine. Our goal is to use the 11-D input feature vector and the 1-D output label to train a machine learning model, using polynomial regression techniques. \n",
    "\n",
    "In this question, you will start with pre-processing a real-world dataset to have a basic understanding to the dataset and the task. Then we will walk you through some tricky problems in machine learning with the problem setting and the starter code, to gain you some intuition on how to deal with the defects of a dataset. At the end we want you to compare the accuracy and the efficiency of different machine learning implementation by observing the behaviors of them. Working on the question will help you roughly see how real-world machine learning would be like. \n",
    "\n",
    "This dataset is available from the UCI machine learning repository (see https://archive.ics.uci.edu/ml/datasets/wine+quality).\n",
    "\n",
    "\n",
    "\n"
   ]
  },
  {
   "cell_type": "markdown",
   "metadata": {
    "id": "EnTVNc51Rz4T"
   },
   "source": [
    "First let's load the data. Before applying any learning algorithm to the wine dataset, we will first preprocess the dataset. In the real-world, pre-processing the data is a very important step since real-life data can be quite imperfect. Since the raw data matrix is not normalized and contains large values that can cause overflow. We will first rescale each column of the data matrix to the same scale and then perform regression on the new data matrix. Complete the function rescale_matrix() and run the following code to load the data. Play with interactive plot to visualize data with two selected features. Based on your observations on the interactive plot, do you think this data set is linearly separable? "
   ]
  },
  {
   "cell_type": "code",
   "execution_count": null,
   "metadata": {
    "colab": {
     "base_uri": "https://localhost:8080/",
     "height": 362,
     "referenced_widgets": [
      "5db39fe9471046b2805a88ff1134bfca",
      "19ed5d9d1abf4dba89d4adefb3bfb39a",
      "073f9d2d706e40c9b97532979cad45e9",
      "4f18a5eaaf034fbaa1d7ab28b0a0970a",
      "e4f1ca1e01744f70b5346205db985534",
      "1e093a139edb4edba22e9c245f7216d6",
      "409efe3f5e9e43a48b44f7491711fcb1",
      "a0326cfea36d4171a19c451f618bee40",
      "baeb59a0f1ac4f87b70d6343d8e43dee",
      "a50ffb3cd9fe4dec90a78337727fe9f0"
     ]
    },
    "id": "M0xR7YG5oGH3",
    "outputId": "0d3e6da5-77f2-4975-ae24-ab0f0018693c"
   },
   "outputs": [],
   "source": [
    "X_wine = np.load(\"X_wine.npy\")\n",
    "X_wine_train = np.load(\"X_wine_train.npy\")\n",
    "X_wine_test = np.load(\"X_wine_test.npy\")\n",
    "X_wine_val = np.load(\"X_wine_val.npy\")\n",
    "\n",
    "y_wine = np.load(\"y_wine.npy\")\n",
    "y_wine_train = np.load(\"y_wine_train.npy\")\n",
    "y_wine_test = np.load(\"y_wine_test.npy\")\n",
    "y_wine_val = np.load(\"y_wine_val.npy\")\n",
    "\n",
    "# rescale the range of each feature to be from minValue and maxValue \n",
    "def rescale_matrix(X,maxValue,minValue):\n",
    "  n1,n2 = X.shape\n",
    "  Xp = np.zeros(X.shape)\n",
    "  # in the following section, you will rescale the data matrix and save it as Xp\n",
    "  # In Xp, each feature has maximal feature value equals to maxValue, and minimal value equals to minValue\n",
    "    \n",
    "    \n",
    "  #TO DO 15 start:\n",
    " \n",
    "  #TO DO 15 end:\n",
    "  return Xp\n",
    "\n",
    "maxValue = 2\n",
    "minValue =-2\n",
    "X_wine = rescale_matrix(X_wine,minValue,maxValue)\n",
    "X_wine_train = rescale_matrix(X_wine_train,minValue,maxValue)\n",
    "X_wine_val = rescale_matrix(X_wine_val,minValue,maxValue)\n",
    "X_wine_test = rescale_matrix(X_wine_test,minValue,maxValue)\n",
    "\n",
    "def visualize_wine_2D(X,y,feature1,feature2):\n",
    "  # feature1 and feature2 are indices from 0 to 10\n",
    "  labels =['fixed acidity','volatile acidity','citric acid','residual sugar','chlorides','free sulfur dioxide','total sulfur dioxide','density','pH','sulphates','alcohol']\n",
    "\n",
    "  n1,n2 = X.shape\n",
    "\n",
    "  x1 = X[:,feature1]\n",
    "  x2 = X[:,feature2]\n",
    "\n",
    "  for i in range(10):\n",
    "    plt.scatter(x1[y==i], x2[y==i])\n",
    "  plt.title('Data with '+labels[feature1]+' and '+labels[feature2])\n",
    "  plt.show()\n",
    "  pass\n",
    "\n",
    "def interactive_visualize_wine_2D(feature1,feature2):\n",
    "  visualize_wine_2D(X_wine_train,y_wine_train,feature1,feature2)\n",
    "\n",
    "interact(interactive_visualize_wine_2D, feature1=widgets.IntSlider(min=0, max=10, step=1, value=0), feature2=widgets.IntSlider(min=0, max=10, step=1, value=1)) \n"
   ]
  },
  {
   "cell_type": "markdown",
   "metadata": {
    "id": "adh9_HatQAOP"
   },
   "source": [
    "**Part 16**: [[Your observations]]\n",
    "\n",
    "Answer: "
   ]
  },
  {
   "cell_type": "markdown",
   "metadata": {
    "id": "0V7CgUmN3LQT"
   },
   "source": [
    "Now let's try learn the data using regression with polynomial features. The output of regression is a continuous variable. Complete the function classify_wine() below to convert the continuous variable into the wine quality score (ie. the class label for each data point). Also, complete the missing codes in the function visualize_wine_regression_results() to do regression with polynomial on this data set. Run the code and make your observations. The interactive plot shows the prediction labels vs the ground-truth label for selected degree of polynomial. Play with this plot, and report the best degree.Comment on effectiveness on training this data set. "
   ]
  },
  {
   "cell_type": "code",
   "execution_count": null,
   "metadata": {
    "colab": {
     "base_uri": "https://localhost:8080/",
     "height": 361,
     "referenced_widgets": [
      "c2bb2aa8c17b4b44a889e16ab56f1117",
      "0e65785968444a25a0ea6c3480617f12",
      "f6e21f7829ce4d178ee95b11e5474e9c",
      "52b7d40f26694d8bb2bbec8bddd9020f",
      "b6cca40f280c4d2ba0f9c6f6e59cf808",
      "26c456c08f15473da6ea1f0819d0ed5c",
      "1570ea22ea094847a55f9a16ef8235f5"
     ]
    },
    "id": "ZZenMib4ye7k",
    "outputId": "f51ac011-88e0-4c74-b126-7833b86413aa"
   },
   "outputs": [],
   "source": [
    "\n",
    "def classify_wine(y):\n",
    "  # This function take the learned y value, and output the classified ypred into 10 classes\n",
    "  #TODO 17 start\n",
    "\n",
    "  #TODO 17 end\n",
    "  return ypred.astype(int)\n",
    "\n",
    "def visualize_wine_regression_results(X_train,y_train,D,X_test,y_test):\n",
    "  #TODO 18 start\n",
    "\n",
    "  #TODO 18 end\n",
    "\n",
    "  for i in range(10):\n",
    "    plt.scatter(y_test[y_test==i],ypoly[y_test==i])\n",
    "  plt.title('Prediction on test data with '+ str(D) + ' degree polynomial features')\n",
    "  plt.ylabel('Predicted quality values')\n",
    "  plt.xlabel('Actual wine quality')\n",
    "  plt.xlim(0,10)\n",
    "  plt.ylim(0,10)\n",
    "  plt.show() \n",
    "\n",
    "  acc_wine_test = accuracy_percentage(y_test,classify_wine(ypoly))\n",
    "  print('Prediction accuracy on test data: ',acc_wine_test) \n",
    "  pass\n",
    "\n",
    "def interactive_visualize_wine_regression_results(D):\n",
    "  visualize_wine_regression_results(X_wine_train,y_wine_train,D,X_wine_test,y_wine_test)\n",
    " \n",
    "interact(interactive_visualize_wine_regression_results, D = widgets.IntSlider(min=1, max=12, step=1, value=1)) "
   ]
  },
  {
   "cell_type": "markdown",
   "metadata": {
    "id": "JmCb1ujzR0mY"
   },
   "source": [
    "**Part 19**: [[Your obervations on the prediction results]]\n",
    "\n",
    "Answer: "
   ]
  },
  {
   "cell_type": "markdown",
   "metadata": {
    "id": "jCONz_0-37En"
   },
   "source": [
    "Plot histogram of the data labels. Write down your observations. Based on your observations, what could be one of the reasons that causes the low prediction accuracy in the previous cell?"
   ]
  },
  {
   "cell_type": "code",
   "execution_count": null,
   "metadata": {
    "colab": {
     "base_uri": "https://localhost:8080/",
     "height": 296
    },
    "id": "nVmyPPFt37qH",
    "outputId": "6d83ad3a-afde-47b5-84a7-632dfb212bff"
   },
   "outputs": [],
   "source": [
    "# plot historgram of the original data\n",
    "# TO DO 20\n",
    "\n",
    "#TO DO 20\n",
    "plt.xlabel('Wine quality scores')\n",
    "plt.ylabel('Count')\n",
    "plt.show"
   ]
  },
  {
   "cell_type": "markdown",
   "metadata": {
    "id": "XoQAS1jmUr2c"
   },
   "source": [
    "**Part 20**: [[Your answer]]\n",
    "\n",
    "Answer: "
   ]
  },
  {
   "cell_type": "markdown",
   "metadata": {
    "id": "WMMbyCr73u69"
   },
   "source": [
    "Now let's complete the missing code below to rebin the data into two classes (with class labels -1 and 1) so that two classes will have a similar number of data points. The histogram above might give you a hint on how to split the data. Note that in real life, if you are asked to predict wine quality score, this approach is not going to help. You will likely have to use a more complex modeling algorithm but for this exercise, we will just simplify the problem to be applicable to polynomial regression. The following two parts are aimed to show a signficant class imbalance can produce poor prediction results"
   ]
  },
  {
   "cell_type": "code",
   "execution_count": null,
   "metadata": {
    "id": "kyYZgx9O3t5i"
   },
   "outputs": [],
   "source": [
    "# rebin ten classes into two classes\n",
    "yr_wine =np.zeros(len(y_wine))\n",
    "yr_wine_train=np.zeros(len(y_wine_train))\n",
    "yr_wine_test=np.zeros(len(y_wine_test))\n",
    "yr_wine_val=np.zeros(len(y_wine_val))\n",
    "\n",
    "\n",
    "#  in this part, define yr_wine, yr_wine_train, yr_wine_test and yr_wine_val so that they take on labels {-1, +1}\n",
    "#TO DO 21 start\n",
    "\n",
    "#TO DO 21 end\n",
    "\n"
   ]
  },
  {
   "cell_type": "markdown",
   "metadata": {
    "id": "2cuuEKRBEO3a"
   },
   "source": [
    "First let's try learn the rebined wine data using regression with polynomial features. Compare the performance with before and comment your observations below. Change different degree of polynomials under 10, and report the max degree you can run on this data set. Why do you think training this data set is significantly slower?"
   ]
  },
  {
   "cell_type": "code",
   "execution_count": null,
   "metadata": {
    "colab": {
     "base_uri": "https://localhost:8080/",
     "height": 917,
     "referenced_widgets": [
      "114182af80a245f6bb5702ad3c211c0c",
      "5a21f5fb5d854e4883618f2210b415e6",
      "cb131650b74544f38392f05b32a065ce",
      "32bf73f72e3b4dea96f40976568adb39",
      "6b91245ce6cd4ec1a940920562503231",
      "e4709d0e74ad4a91ba657f89c5e1d2a8",
      "cd3e6507e003498785a8df23cbd59a8d"
     ]
    },
    "id": "NopH-L_4EH1j",
    "outputId": "d1663fe0-46ed-4486-a034-879df3d1854d"
   },
   "outputs": [],
   "source": [
    "# regression with poly features\n",
    "\n",
    "LAMBDA=5000\n",
    "max_d =5\n",
    "\n",
    "accs_train_wine =[]\n",
    "accs_val_wine =[]\n",
    "run_times_wine=[]\n",
    "for D in range(1, max_d):\n",
    "    start_time = time.process_time()\n",
    "\n",
    "    # complete the following part to train on X_wine_train and report predicton accuracy on X_wine_val\n",
    "    # TO DO 22 start:\n",
    "\n",
    "    # TO DO 22 end:\n",
    "\n",
    "    end_time = time.process_time()\n",
    "    run_times_wine.append(end_time-start_time)\n",
    "    accs_train_wine.append(acc_train)\n",
    "    accs_val_wine.append(acc_val)\n",
    "\n",
    "# Plot train accuracy as a function of polynomial degree\n",
    "plt.plot(range(1,max_d),accs_train_wine, label='Your regression with poly features')\n",
    "plt.title('Train Accuracy vs the Degree')\n",
    "plt.xlabel('Polynomial degree')\n",
    "plt.ylabel('Train accuracy (%)')\n",
    "plt.show();\n",
    "\n",
    "# Plot validation accuracy as a function of polynomial degree\n",
    "plt.plot(range(1,max_d),accs_val_wine, label='Your regression with poly features')\n",
    "plt.title('Validation Accuracy vs the Degree')\n",
    "plt.xlabel('Polynomial degree')\n",
    "plt.ylabel('Validation accuracy (%)')\n",
    "plt.show();\n",
    "\n",
    "# Plot run time as a function of polynomial degree\n",
    "plt.plot(range(1,max_d),run_times_wine, label='Your regression with poly features')\n",
    "plt.title('Run time vs the Degree')\n",
    "plt.xlabel('Polynomial degree')\n",
    "plt.ylabel('Run time (s)')\n",
    "plt.show();\n",
    "\n",
    "\n",
    "\n",
    "def interactive_wine_acc(D):\n",
    "  Xd_wine_train = assemble_feature(X_wine_train, D)\n",
    "  Xd_wine_test = assemble_feature(X_wine_test, D)\n",
    "  ypred_test,w =poly_regression(Xd_wine_train, yr_wine_train, Xd_wine_test,LAMBDA)\n",
    " \n",
    "  acc_test = accuracy_percentage(yr_wine_test, classify(ypred_test))\n",
    "\n",
    "  print(\"Prediction accuracy on the test set is \", acc_test)\n",
    "\n",
    "\n",
    "  pass\n",
    "\n",
    "interact(interactive_wine_acc,D=widgets.IntSlider(min=1, max=15, step=1, value=2))"
   ]
  },
  {
   "cell_type": "markdown",
   "metadata": {
    "id": "sCII4Xit9IVA"
   },
   "source": [
    "**Part 22**: [[Your observations]]\n",
    "\n",
    "Answer: "
   ]
  },
  {
   "cell_type": "markdown",
   "metadata": {
    "id": "CPBIr95IXr_t"
   },
   "source": [
    "Your answer: "
   ]
  },
  {
   "cell_type": "markdown",
   "metadata": {
    "id": "kB_L3mv4cti-"
   },
   "source": [
    "**Part 23**: Now try to use poly kernel regression to train the rebined wine data set. Are you able to run the train the data with higher degree polynomials? Why? "
   ]
  },
  {
   "cell_type": "code",
   "execution_count": null,
   "metadata": {
    "colab": {
     "base_uri": "https://localhost:8080/",
     "height": 917,
     "referenced_widgets": [
      "06cbd88e7b4b43a69483e0feb141e90d",
      "cd97074da02146af9a1e9c426ac0b073",
      "a51b0aaaaafe4c25915098715765b7e8",
      "044616edd6c04c679fd0e5b39a6413ed",
      "42e06f05128a4516b9fa47b778c209f6",
      "65c59cd7855e48cd9cc035829dbfadda",
      "72d5cc82d51a4792b7390b8e3b3d7f9d"
     ]
    },
    "id": "sQh03hRCZrqE",
    "outputId": "7677092d-ce0e-45d6-c289-c84e1890945d"
   },
   "outputs": [],
   "source": [
    "# kernel regression\n",
    "\n",
    "LAMBDA=6000\n",
    "\n",
    "max_d =15\n",
    "\n",
    "accs_train_wine_k =[]\n",
    "accs_val_wine_k =[]\n",
    "run_times_wine_k =[]\n",
    "\n",
    "for D in range(1, max_d):\n",
    "    start_time = time.process_time()\n",
    "\n",
    "    # TO DO 23 start\n",
    "\n",
    "    #TO DO 23 end\n",
    "\n",
    "    end_time = time.process_time()\n",
    "\n",
    "    accs_train_wine_k.append(acc_train)\n",
    "    accs_val_wine_k.append(acc_val)\n",
    "    run_times_wine_k.append(end_time-start_time)\n",
    "\n",
    "# Plot accuracies for Circle and Star data\n",
    "plt.plot(range(1,max_d),accs_train_wine_k, label='Your poly kernel')\n",
    "plt.title('Train Accuracy vs the Degree')\n",
    "plt.xlabel('Polynomial degree')\n",
    "plt.ylabel('Train accuracy (%)')\n",
    "plt.legend(fontsize=12)\n",
    "plt.show();\n",
    "\n",
    "plt.plot(range(1,max_d),accs_val_wine_k,label='Your poly kernel')\n",
    "plt.title('Validation Accuracy vs the Degree')\n",
    "plt.xlabel('Polynomial degree')\n",
    "plt.ylabel('Validation accuracy (%)')\n",
    "plt.legend(fontsize=12)\n",
    "plt.show();\n",
    "\n",
    "plt.plot(range(1,max_d),run_times_wine_k,label='Your poly kernel')\n",
    "plt.title('Run time vs the Degree')\n",
    "plt.xlabel('Polynomial degree')\n",
    "plt.ylabel('Run time (s)')\n",
    "plt.legend(fontsize=12)\n",
    "plt.show();\n",
    "\n",
    "\n",
    "def interactive_wine_acc_k(D):\n",
    "  K = poly_kernel(X_wine_train, X_wine_train.T, D) + LAMBDA * np.eye(X_wine_train.shape[0])\n",
    "  w_k = np.linalg.solve(K, yr_wine_train)\n",
    "\n",
    "  ypred_wine_test = classify(poly_kernel(X_wine_test, X_wine_train.T, D) @ w_k)\n",
    "  acc_star = accuracy_percentage(yr_wine_test, ypred_wine_test)\n",
    "  print(\"Prediction accuracy on the test set is \", acc_star)\n",
    "\n",
    "  pass\n",
    "\n",
    "interact(interactive_wine_acc_k,D=widgets.IntSlider(min=1, max=15, step=1, value=2))"
   ]
  },
  {
   "cell_type": "markdown",
   "metadata": {
    "id": "GFa3CerfdEez"
   },
   "source": [
    "**Part 23**: [[Your observations]]\n",
    "\n"
   ]
  },
  {
   "cell_type": "markdown",
   "metadata": {
    "id": "VeqZA243L7Ju"
   },
   "source": [
    "Scikit-learn is a free software machine learning library for the Python programming language. It features various classification, regression and clustering algorithms including support vector machines, random forests, gradient boosting, k-means and DBSCAN, and is designed to interoperate with the Python numerical and scientific libraries NumPy and SciPy. "
   ]
  },
  {
   "cell_type": "markdown",
   "metadata": {
    "id": "KgNC1674YPoG"
   },
   "source": [
    "The following two parts are aimed to get you familiar with sklearn library. You will read the documentation of sklearn functions to try to implement regression with polynomial features and polynomial kernel regression with sklearn function. You may find the following sections of sklearn library useful: sklearn.preprocessing, sklearn.linear_model.LinearRegression and sklearn.kernel_ridge."
   ]
  },
  {
   "cell_type": "markdown",
   "metadata": {
    "id": "laMkqXAUdJSK"
   },
   "source": [
    "**Part 24**: First try regression with polynomial features. Complete the missing codes. What is the best D in this case? How does it compare with results from your implementation?"
   ]
  },
  {
   "cell_type": "code",
   "execution_count": null,
   "metadata": {
    "colab": {
     "base_uri": "https://localhost:8080/",
     "height": 917,
     "referenced_widgets": [
      "4324e07ecaf74043a150e6425f667ad9",
      "f2496efece184d9a80eb1fce499d7961",
      "c01851063e5e4de08b5a81c6415ad546",
      "c31c10f8d1ae43918b8b1171dafdba7a",
      "0b1bcb5adbd64a0eaa78e5ff556cf195",
      "abb9fcad1e004e1f8cb44dd99e207c98",
      "1b8e83105dcb428fa558b44b3b304064"
     ]
    },
    "id": "VJu0VfY0L4Z2",
    "outputId": "e5035276-175f-47a6-9c37-1d0a47ce037c"
   },
   "outputs": [],
   "source": [
    "from sklearn.linear_model import Ridge\n",
    "\n",
    "ALPHA =6000\n",
    "\n",
    "\n",
    "# plot accuracy\n",
    "max_d = 10\n",
    "accs_train_wine_sk = []\n",
    "accs_val_wine_sk = []\n",
    "run_times_wine_sk =[]\n",
    "for D in range(1, max_d):\n",
    "    \n",
    "    start_time = time.process_time()\n",
    "\n",
    "    #TO DO 24 start: \n",
    "\n",
    "    #TO DO 24 end:\n",
    "\n",
    "    end_time = time.process_time()\n",
    "    run_times_wine_sk.append(end_time-start_time)\n",
    "    accs_train_wine_sk.append(acc_wine_train)\n",
    "    accs_val_wine_sk.append(acc_wine_val)\n",
    "    \n",
    "\n",
    "    \n",
    "plt.plot(range(1,max_d),accs_train_wine_sk,label='SK regression with poly features')\n",
    "plt.title('Train Accuracy vs the Degree')\n",
    "plt.xlabel('Polynomial degree')\n",
    "plt.ylabel('Train Accuracy (%)')\n",
    "plt.show();\n",
    "\n",
    "plt.plot(range(1,max_d),accs_val_wine_sk,label='SK regression with poly features')\n",
    "plt.title('Validation Accuracy vs the Degree')\n",
    "plt.xlabel('Polynomial degree')\n",
    "plt.ylabel('Validation Accuracy (%)')\n",
    "plt.show();\n",
    "\n",
    "\n",
    "plt.plot(range(1,max_d),run_times_wine_sk,label='SK regression with poly features')\n",
    "plt.title('Run time vs the Degree')\n",
    "plt.xlabel('Polynomial degree')\n",
    "plt.ylabel('Run Time (s)')\n",
    "plt.show();\n",
    "\n",
    "def visualize_wine_sk_regression(X_train,y_train,D,X_test,y_test):\n",
    "\n",
    "  poly = PolynomialFeatures(D)\n",
    "  phi = poly.fit_transform(X_train)\n",
    "  phi_test =poly.fit_transform(X_test)\n",
    "  reg = Ridge(alpha=ALPHA)\n",
    "  reg.fit(phi, y_train)\n",
    "  ypoly = reg.predict(phi_test)\n",
    "\n",
    "\n",
    "  acc_wine_test = accuracy_percentage(y_test,classify(ypoly))\n",
    "  print('Prediction accuracy on test data: ',acc_wine_test) \n",
    "  pass\n",
    "\n",
    "def interactive_visualize_wine_sk_regression(D):\n",
    "  visualize_wine_sk_regression(X_wine_train,yr_wine_train,D,X_wine_test,yr_wine_test)\n",
    "\n",
    "interact(interactive_visualize_wine_sk_regression,D=widgets.IntSlider(min=2, max=15, step=1, value=2))\n",
    "\n",
    "\n",
    "\n"
   ]
  },
  {
   "cell_type": "markdown",
   "metadata": {
    "id": "-VE_PRgqn6Fs"
   },
   "source": [
    "**Part 24**: [[Your answer]]\n",
    "\n",
    "Answer: "
   ]
  },
  {
   "cell_type": "markdown",
   "metadata": {
    "id": "_hg1KacWdHFE"
   },
   "source": [
    "**Part 25**: Repeat with sklearn.kernel_ridge to do poly kernel regression with sklearn functions. What is the best D in this case? How does it compare with results from your implementation?"
   ]
  },
  {
   "cell_type": "code",
   "execution_count": null,
   "metadata": {
    "colab": {
     "base_uri": "https://localhost:8080/",
     "height": 985,
     "referenced_widgets": [
      "24f21a7255224e83b5ec7d59fb4c182a",
      "2e0f117425524de3b575cbaa2e449ead",
      "9f52d0a24e0a4013a6eb74f01911cdef",
      "820820170e444d52bfb3a69be2d87711",
      "d1e5ad67940f4b30a760e90bda83629d",
      "9eb01fb46f1a4196911cc0e32c1d2ae3",
      "5dad2a4c140942c5b7e56250496bbce4"
     ]
    },
    "id": "ibYNKMHOdF8h",
    "outputId": "c3c32c63-7887-4c42-c507-aaa3201c77c1"
   },
   "outputs": [],
   "source": [
    "# plot accuracy\n",
    "ALPHA =6000\n",
    "max_d = 15\n",
    "accs_train_wine_sk_kernel = []\n",
    "accs_val_wine_sk_kernel = []\n",
    "run_times_wine_sk_kernel = []\n",
    "\n",
    "for D in range(1, max_d):\n",
    "    \n",
    "    start_time = time.process_time()\n",
    "\n",
    "    #TO DO 25 start:\n",
    "\n",
    "    #TO DO  25 end: \n",
    "\n",
    "\n",
    "    end_time = time.process_time()\n",
    "\n",
    "    run_times_wine_sk_kernel.append(end_time-start_time)\n",
    "    accs_train_wine_sk_kernel.append(acc_wine_train)\n",
    "    accs_val_wine_sk_kernel.append(acc_wine_val)\n",
    "    \n",
    "\n",
    "\n",
    "plt.plot(range(1,max_d),accs_train_wine_sk_kernel,label='SK kernel')\n",
    "plt.title('Train Accuracy vs the Degree')\n",
    "plt.xlabel('Polynomial degree')\n",
    "plt.ylabel('Train Accuracy (%)')\n",
    "plt.legend()\n",
    "plt.show();\n",
    "\n",
    "\n",
    "plt.plot(range(1,max_d),accs_val_wine_sk_kernel,label='Sk kernel')\n",
    "plt.title('Validation Accuracy vs the Degree')\n",
    "plt.xlabel('Polynomial degree')\n",
    "plt.ylabel('Validation Accuracy (%)')\n",
    "plt.legend()\n",
    "plt.show();\n",
    "\n",
    "\n",
    "\n",
    "plt.plot(range(1,max_d),run_times_wine_sk_kernel,label='SK kernel')\n",
    "plt.title('Run Time vs the Degree')\n",
    "plt.xlabel('Polynomial degree')\n",
    "plt.ylabel('Run Time (s)')\n",
    "plt.legend()\n",
    "plt.show();\n",
    "\n",
    "\n",
    "\n",
    "def visualize_wine_sk_kernel(X_train,y_train,D,ALPHA,X_test,y_test):\n",
    " \n",
    "\n",
    "  clf = sk.kernel_ridge.KernelRidge(alpha=ALPHA,kernel='polynomial',degree=D)\n",
    "  clf.fit(X_train, y_train)\n",
    "  ypoly =clf.predict(X_test)\n",
    "\n",
    "\n",
    "  acc_wine_test = accuracy_percentage(y_test,classify(ypoly))\n",
    "  print('Prediction accuracy on test data: ',acc_wine_test) \n",
    "  pass\n",
    "\n",
    "def interactive_visualize_wine_sk_kernel(D):\n",
    "  visualize_wine_sk_kernel(X_wine_train,yr_wine_train,D,ALPHA,X_wine_test,yr_wine_test)\n",
    "\n",
    "interact(interactive_visualize_wine_sk_kernel,D=widgets.IntSlider(min=1, max=15, step=1, value=4))"
   ]
  },
  {
   "cell_type": "markdown",
   "metadata": {
    "id": "YMpb5sMeoA13"
   },
   "source": [
    "**Part 25**: [[Your answer]]\n",
    "\n",
    "Answer: "
   ]
  },
  {
   "cell_type": "code",
   "execution_count": null,
   "metadata": {
    "id": "I70boWmZfmli"
   },
   "outputs": [],
   "source": []
  }
 ],
 "metadata": {
  "colab": {
   "collapsed_sections": [],
   "name": "assignment_draft.ipynb",
   "provenance": [],
   "toc_visible": true
  },
  "kernelspec": {
   "display_name": "Python 3",
   "language": "python",
   "name": "python3"
  },
  "language_info": {
   "codemirror_mode": {
    "name": "ipython",
    "version": 3
   },
   "file_extension": ".py",
   "mimetype": "text/x-python",
   "name": "python",
   "nbconvert_exporter": "python",
   "pygments_lexer": "ipython3",
   "version": "3.7.3"
  },
  "widgets": {
   "application/vnd.jupyter.widget-state+json": {
    "044616edd6c04c679fd0e5b39a6413ed": {
     "model_module": "@jupyter-widgets/output",
     "model_name": "OutputModel",
     "state": {
      "_dom_classes": [],
      "_model_module": "@jupyter-widgets/output",
      "_model_module_version": "1.0.0",
      "_model_name": "OutputModel",
      "_view_count": null,
      "_view_module": "@jupyter-widgets/output",
      "_view_module_version": "1.0.0",
      "_view_name": "OutputView",
      "layout": "IPY_MODEL_72d5cc82d51a4792b7390b8e3b3d7f9d",
      "msg_id": "",
      "outputs": [
       {
        "metadata": {
         "tags": []
        },
        "output_type": "stream",
        "stream": "stdout",
        "text": "Prediction accuracy on the test set is  0.725\n"
       }
      ]
     }
    },
    "06cbd88e7b4b43a69483e0feb141e90d": {
     "model_module": "@jupyter-widgets/controls",
     "model_name": "VBoxModel",
     "state": {
      "_dom_classes": [
       "widget-interact"
      ],
      "_model_module": "@jupyter-widgets/controls",
      "_model_module_version": "1.5.0",
      "_model_name": "VBoxModel",
      "_view_count": null,
      "_view_module": "@jupyter-widgets/controls",
      "_view_module_version": "1.5.0",
      "_view_name": "VBoxView",
      "box_style": "",
      "children": [
       "IPY_MODEL_a51b0aaaaafe4c25915098715765b7e8",
       "IPY_MODEL_044616edd6c04c679fd0e5b39a6413ed"
      ],
      "layout": "IPY_MODEL_cd97074da02146af9a1e9c426ac0b073"
     }
    },
    "073f9d2d706e40c9b97532979cad45e9": {
     "model_module": "@jupyter-widgets/controls",
     "model_name": "IntSliderModel",
     "state": {
      "_dom_classes": [],
      "_model_module": "@jupyter-widgets/controls",
      "_model_module_version": "1.5.0",
      "_model_name": "IntSliderModel",
      "_view_count": null,
      "_view_module": "@jupyter-widgets/controls",
      "_view_module_version": "1.5.0",
      "_view_name": "IntSliderView",
      "continuous_update": true,
      "description": "feature1",
      "description_tooltip": null,
      "disabled": false,
      "layout": "IPY_MODEL_409efe3f5e9e43a48b44f7491711fcb1",
      "max": 10,
      "min": 0,
      "orientation": "horizontal",
      "readout": true,
      "readout_format": "d",
      "step": 1,
      "style": "IPY_MODEL_1e093a139edb4edba22e9c245f7216d6",
      "value": 0
     }
    },
    "0b1bcb5adbd64a0eaa78e5ff556cf195": {
     "model_module": "@jupyter-widgets/controls",
     "model_name": "SliderStyleModel",
     "state": {
      "_model_module": "@jupyter-widgets/controls",
      "_model_module_version": "1.5.0",
      "_model_name": "SliderStyleModel",
      "_view_count": null,
      "_view_module": "@jupyter-widgets/base",
      "_view_module_version": "1.2.0",
      "_view_name": "StyleView",
      "description_width": "",
      "handle_color": null
     }
    },
    "0e65785968444a25a0ea6c3480617f12": {
     "model_module": "@jupyter-widgets/base",
     "model_name": "LayoutModel",
     "state": {
      "_model_module": "@jupyter-widgets/base",
      "_model_module_version": "1.2.0",
      "_model_name": "LayoutModel",
      "_view_count": null,
      "_view_module": "@jupyter-widgets/base",
      "_view_module_version": "1.2.0",
      "_view_name": "LayoutView",
      "align_content": null,
      "align_items": null,
      "align_self": null,
      "border": null,
      "bottom": null,
      "display": null,
      "flex": null,
      "flex_flow": null,
      "grid_area": null,
      "grid_auto_columns": null,
      "grid_auto_flow": null,
      "grid_auto_rows": null,
      "grid_column": null,
      "grid_gap": null,
      "grid_row": null,
      "grid_template_areas": null,
      "grid_template_columns": null,
      "grid_template_rows": null,
      "height": null,
      "justify_content": null,
      "justify_items": null,
      "left": null,
      "margin": null,
      "max_height": null,
      "max_width": null,
      "min_height": null,
      "min_width": null,
      "object_fit": null,
      "object_position": null,
      "order": null,
      "overflow": null,
      "overflow_x": null,
      "overflow_y": null,
      "padding": null,
      "right": null,
      "top": null,
      "visibility": null,
      "width": null
     }
    },
    "0f021154f8ba4b29bd00914152e96932": {
     "model_module": "@jupyter-widgets/controls",
     "model_name": "SliderStyleModel",
     "state": {
      "_model_module": "@jupyter-widgets/controls",
      "_model_module_version": "1.5.0",
      "_model_name": "SliderStyleModel",
      "_view_count": null,
      "_view_module": "@jupyter-widgets/base",
      "_view_module_version": "1.2.0",
      "_view_name": "StyleView",
      "description_width": "",
      "handle_color": null
     }
    },
    "114182af80a245f6bb5702ad3c211c0c": {
     "model_module": "@jupyter-widgets/controls",
     "model_name": "VBoxModel",
     "state": {
      "_dom_classes": [
       "widget-interact"
      ],
      "_model_module": "@jupyter-widgets/controls",
      "_model_module_version": "1.5.0",
      "_model_name": "VBoxModel",
      "_view_count": null,
      "_view_module": "@jupyter-widgets/controls",
      "_view_module_version": "1.5.0",
      "_view_name": "VBoxView",
      "box_style": "",
      "children": [
       "IPY_MODEL_cb131650b74544f38392f05b32a065ce",
       "IPY_MODEL_32bf73f72e3b4dea96f40976568adb39"
      ],
      "layout": "IPY_MODEL_5a21f5fb5d854e4883618f2210b415e6"
     }
    },
    "1570ea22ea094847a55f9a16ef8235f5": {
     "model_module": "@jupyter-widgets/base",
     "model_name": "LayoutModel",
     "state": {
      "_model_module": "@jupyter-widgets/base",
      "_model_module_version": "1.2.0",
      "_model_name": "LayoutModel",
      "_view_count": null,
      "_view_module": "@jupyter-widgets/base",
      "_view_module_version": "1.2.0",
      "_view_name": "LayoutView",
      "align_content": null,
      "align_items": null,
      "align_self": null,
      "border": null,
      "bottom": null,
      "display": null,
      "flex": null,
      "flex_flow": null,
      "grid_area": null,
      "grid_auto_columns": null,
      "grid_auto_flow": null,
      "grid_auto_rows": null,
      "grid_column": null,
      "grid_gap": null,
      "grid_row": null,
      "grid_template_areas": null,
      "grid_template_columns": null,
      "grid_template_rows": null,
      "height": null,
      "justify_content": null,
      "justify_items": null,
      "left": null,
      "margin": null,
      "max_height": null,
      "max_width": null,
      "min_height": null,
      "min_width": null,
      "object_fit": null,
      "object_position": null,
      "order": null,
      "overflow": null,
      "overflow_x": null,
      "overflow_y": null,
      "padding": null,
      "right": null,
      "top": null,
      "visibility": null,
      "width": null
     }
    },
    "19ed5d9d1abf4dba89d4adefb3bfb39a": {
     "model_module": "@jupyter-widgets/base",
     "model_name": "LayoutModel",
     "state": {
      "_model_module": "@jupyter-widgets/base",
      "_model_module_version": "1.2.0",
      "_model_name": "LayoutModel",
      "_view_count": null,
      "_view_module": "@jupyter-widgets/base",
      "_view_module_version": "1.2.0",
      "_view_name": "LayoutView",
      "align_content": null,
      "align_items": null,
      "align_self": null,
      "border": null,
      "bottom": null,
      "display": null,
      "flex": null,
      "flex_flow": null,
      "grid_area": null,
      "grid_auto_columns": null,
      "grid_auto_flow": null,
      "grid_auto_rows": null,
      "grid_column": null,
      "grid_gap": null,
      "grid_row": null,
      "grid_template_areas": null,
      "grid_template_columns": null,
      "grid_template_rows": null,
      "height": null,
      "justify_content": null,
      "justify_items": null,
      "left": null,
      "margin": null,
      "max_height": null,
      "max_width": null,
      "min_height": null,
      "min_width": null,
      "object_fit": null,
      "object_position": null,
      "order": null,
      "overflow": null,
      "overflow_x": null,
      "overflow_y": null,
      "padding": null,
      "right": null,
      "top": null,
      "visibility": null,
      "width": null
     }
    },
    "1b8e83105dcb428fa558b44b3b304064": {
     "model_module": "@jupyter-widgets/base",
     "model_name": "LayoutModel",
     "state": {
      "_model_module": "@jupyter-widgets/base",
      "_model_module_version": "1.2.0",
      "_model_name": "LayoutModel",
      "_view_count": null,
      "_view_module": "@jupyter-widgets/base",
      "_view_module_version": "1.2.0",
      "_view_name": "LayoutView",
      "align_content": null,
      "align_items": null,
      "align_self": null,
      "border": null,
      "bottom": null,
      "display": null,
      "flex": null,
      "flex_flow": null,
      "grid_area": null,
      "grid_auto_columns": null,
      "grid_auto_flow": null,
      "grid_auto_rows": null,
      "grid_column": null,
      "grid_gap": null,
      "grid_row": null,
      "grid_template_areas": null,
      "grid_template_columns": null,
      "grid_template_rows": null,
      "height": null,
      "justify_content": null,
      "justify_items": null,
      "left": null,
      "margin": null,
      "max_height": null,
      "max_width": null,
      "min_height": null,
      "min_width": null,
      "object_fit": null,
      "object_position": null,
      "order": null,
      "overflow": null,
      "overflow_x": null,
      "overflow_y": null,
      "padding": null,
      "right": null,
      "top": null,
      "visibility": null,
      "width": null
     }
    },
    "1e093a139edb4edba22e9c245f7216d6": {
     "model_module": "@jupyter-widgets/controls",
     "model_name": "SliderStyleModel",
     "state": {
      "_model_module": "@jupyter-widgets/controls",
      "_model_module_version": "1.5.0",
      "_model_name": "SliderStyleModel",
      "_view_count": null,
      "_view_module": "@jupyter-widgets/base",
      "_view_module_version": "1.2.0",
      "_view_name": "StyleView",
      "description_width": "",
      "handle_color": null
     }
    },
    "24f21a7255224e83b5ec7d59fb4c182a": {
     "model_module": "@jupyter-widgets/controls",
     "model_name": "VBoxModel",
     "state": {
      "_dom_classes": [
       "widget-interact"
      ],
      "_model_module": "@jupyter-widgets/controls",
      "_model_module_version": "1.5.0",
      "_model_name": "VBoxModel",
      "_view_count": null,
      "_view_module": "@jupyter-widgets/controls",
      "_view_module_version": "1.5.0",
      "_view_name": "VBoxView",
      "box_style": "",
      "children": [
       "IPY_MODEL_9f52d0a24e0a4013a6eb74f01911cdef",
       "IPY_MODEL_820820170e444d52bfb3a69be2d87711"
      ],
      "layout": "IPY_MODEL_2e0f117425524de3b575cbaa2e449ead"
     }
    },
    "251ea4889ec3426497340cca0fcf0608": {
     "model_module": "@jupyter-widgets/controls",
     "model_name": "VBoxModel",
     "state": {
      "_dom_classes": [
       "widget-interact"
      ],
      "_model_module": "@jupyter-widgets/controls",
      "_model_module_version": "1.5.0",
      "_model_name": "VBoxModel",
      "_view_count": null,
      "_view_module": "@jupyter-widgets/controls",
      "_view_module_version": "1.5.0",
      "_view_name": "VBoxView",
      "box_style": "",
      "children": [
       "IPY_MODEL_80c1b0f256ee4497b4ec9289264a389c",
       "IPY_MODEL_919a9feb658a47a99e447cb002701722"
      ],
      "layout": "IPY_MODEL_3c5234f2bfca4ecbacce06bfc4df1251"
     }
    },
    "26c456c08f15473da6ea1f0819d0ed5c": {
     "model_module": "@jupyter-widgets/base",
     "model_name": "LayoutModel",
     "state": {
      "_model_module": "@jupyter-widgets/base",
      "_model_module_version": "1.2.0",
      "_model_name": "LayoutModel",
      "_view_count": null,
      "_view_module": "@jupyter-widgets/base",
      "_view_module_version": "1.2.0",
      "_view_name": "LayoutView",
      "align_content": null,
      "align_items": null,
      "align_self": null,
      "border": null,
      "bottom": null,
      "display": null,
      "flex": null,
      "flex_flow": null,
      "grid_area": null,
      "grid_auto_columns": null,
      "grid_auto_flow": null,
      "grid_auto_rows": null,
      "grid_column": null,
      "grid_gap": null,
      "grid_row": null,
      "grid_template_areas": null,
      "grid_template_columns": null,
      "grid_template_rows": null,
      "height": null,
      "justify_content": null,
      "justify_items": null,
      "left": null,
      "margin": null,
      "max_height": null,
      "max_width": null,
      "min_height": null,
      "min_width": null,
      "object_fit": null,
      "object_position": null,
      "order": null,
      "overflow": null,
      "overflow_x": null,
      "overflow_y": null,
      "padding": null,
      "right": null,
      "top": null,
      "visibility": null,
      "width": null
     }
    },
    "28120954610c47d685474d3ec3b2704e": {
     "model_module": "@jupyter-widgets/controls",
     "model_name": "VBoxModel",
     "state": {
      "_dom_classes": [
       "widget-interact"
      ],
      "_model_module": "@jupyter-widgets/controls",
      "_model_module_version": "1.5.0",
      "_model_name": "VBoxModel",
      "_view_count": null,
      "_view_module": "@jupyter-widgets/controls",
      "_view_module_version": "1.5.0",
      "_view_name": "VBoxView",
      "box_style": "",
      "children": [
       "IPY_MODEL_e379aa1baf4640f283518d8e8dda98e2",
       "IPY_MODEL_48ea8c6541a34cfbab14438d2b67896e"
      ],
      "layout": "IPY_MODEL_6cbce2a645d04ea994eb32b07390fbae"
     }
    },
    "2b00a9afceca4ca593c5483a05f95758": {
     "model_module": "@jupyter-widgets/controls",
     "model_name": "SliderStyleModel",
     "state": {
      "_model_module": "@jupyter-widgets/controls",
      "_model_module_version": "1.5.0",
      "_model_name": "SliderStyleModel",
      "_view_count": null,
      "_view_module": "@jupyter-widgets/base",
      "_view_module_version": "1.2.0",
      "_view_name": "StyleView",
      "description_width": "",
      "handle_color": null
     }
    },
    "2e0f117425524de3b575cbaa2e449ead": {
     "model_module": "@jupyter-widgets/base",
     "model_name": "LayoutModel",
     "state": {
      "_model_module": "@jupyter-widgets/base",
      "_model_module_version": "1.2.0",
      "_model_name": "LayoutModel",
      "_view_count": null,
      "_view_module": "@jupyter-widgets/base",
      "_view_module_version": "1.2.0",
      "_view_name": "LayoutView",
      "align_content": null,
      "align_items": null,
      "align_self": null,
      "border": null,
      "bottom": null,
      "display": null,
      "flex": null,
      "flex_flow": null,
      "grid_area": null,
      "grid_auto_columns": null,
      "grid_auto_flow": null,
      "grid_auto_rows": null,
      "grid_column": null,
      "grid_gap": null,
      "grid_row": null,
      "grid_template_areas": null,
      "grid_template_columns": null,
      "grid_template_rows": null,
      "height": null,
      "justify_content": null,
      "justify_items": null,
      "left": null,
      "margin": null,
      "max_height": null,
      "max_width": null,
      "min_height": null,
      "min_width": null,
      "object_fit": null,
      "object_position": null,
      "order": null,
      "overflow": null,
      "overflow_x": null,
      "overflow_y": null,
      "padding": null,
      "right": null,
      "top": null,
      "visibility": null,
      "width": null
     }
    },
    "2e2d2d92e5d2457dabc85f3bee097fe1": {
     "model_module": "@jupyter-widgets/base",
     "model_name": "LayoutModel",
     "state": {
      "_model_module": "@jupyter-widgets/base",
      "_model_module_version": "1.2.0",
      "_model_name": "LayoutModel",
      "_view_count": null,
      "_view_module": "@jupyter-widgets/base",
      "_view_module_version": "1.2.0",
      "_view_name": "LayoutView",
      "align_content": null,
      "align_items": null,
      "align_self": null,
      "border": null,
      "bottom": null,
      "display": null,
      "flex": null,
      "flex_flow": null,
      "grid_area": null,
      "grid_auto_columns": null,
      "grid_auto_flow": null,
      "grid_auto_rows": null,
      "grid_column": null,
      "grid_gap": null,
      "grid_row": null,
      "grid_template_areas": null,
      "grid_template_columns": null,
      "grid_template_rows": null,
      "height": null,
      "justify_content": null,
      "justify_items": null,
      "left": null,
      "margin": null,
      "max_height": null,
      "max_width": null,
      "min_height": null,
      "min_width": null,
      "object_fit": null,
      "object_position": null,
      "order": null,
      "overflow": null,
      "overflow_x": null,
      "overflow_y": null,
      "padding": null,
      "right": null,
      "top": null,
      "visibility": null,
      "width": null
     }
    },
    "32bf73f72e3b4dea96f40976568adb39": {
     "model_module": "@jupyter-widgets/output",
     "model_name": "OutputModel",
     "state": {
      "_dom_classes": [],
      "_model_module": "@jupyter-widgets/output",
      "_model_module_version": "1.0.0",
      "_model_name": "OutputModel",
      "_view_count": null,
      "_view_module": "@jupyter-widgets/output",
      "_view_module_version": "1.0.0",
      "_view_name": "OutputView",
      "layout": "IPY_MODEL_cd3e6507e003498785a8df23cbd59a8d",
      "msg_id": "",
      "outputs": [
       {
        "metadata": {
         "tags": []
        },
        "output_type": "stream",
        "stream": "stdout",
        "text": "Prediction accuracy on the test set is  0.728125\n"
       }
      ]
     }
    },
    "3c5234f2bfca4ecbacce06bfc4df1251": {
     "model_module": "@jupyter-widgets/base",
     "model_name": "LayoutModel",
     "state": {
      "_model_module": "@jupyter-widgets/base",
      "_model_module_version": "1.2.0",
      "_model_name": "LayoutModel",
      "_view_count": null,
      "_view_module": "@jupyter-widgets/base",
      "_view_module_version": "1.2.0",
      "_view_name": "LayoutView",
      "align_content": null,
      "align_items": null,
      "align_self": null,
      "border": null,
      "bottom": null,
      "display": null,
      "flex": null,
      "flex_flow": null,
      "grid_area": null,
      "grid_auto_columns": null,
      "grid_auto_flow": null,
      "grid_auto_rows": null,
      "grid_column": null,
      "grid_gap": null,
      "grid_row": null,
      "grid_template_areas": null,
      "grid_template_columns": null,
      "grid_template_rows": null,
      "height": null,
      "justify_content": null,
      "justify_items": null,
      "left": null,
      "margin": null,
      "max_height": null,
      "max_width": null,
      "min_height": null,
      "min_width": null,
      "object_fit": null,
      "object_position": null,
      "order": null,
      "overflow": null,
      "overflow_x": null,
      "overflow_y": null,
      "padding": null,
      "right": null,
      "top": null,
      "visibility": null,
      "width": null
     }
    },
    "409efe3f5e9e43a48b44f7491711fcb1": {
     "model_module": "@jupyter-widgets/base",
     "model_name": "LayoutModel",
     "state": {
      "_model_module": "@jupyter-widgets/base",
      "_model_module_version": "1.2.0",
      "_model_name": "LayoutModel",
      "_view_count": null,
      "_view_module": "@jupyter-widgets/base",
      "_view_module_version": "1.2.0",
      "_view_name": "LayoutView",
      "align_content": null,
      "align_items": null,
      "align_self": null,
      "border": null,
      "bottom": null,
      "display": null,
      "flex": null,
      "flex_flow": null,
      "grid_area": null,
      "grid_auto_columns": null,
      "grid_auto_flow": null,
      "grid_auto_rows": null,
      "grid_column": null,
      "grid_gap": null,
      "grid_row": null,
      "grid_template_areas": null,
      "grid_template_columns": null,
      "grid_template_rows": null,
      "height": null,
      "justify_content": null,
      "justify_items": null,
      "left": null,
      "margin": null,
      "max_height": null,
      "max_width": null,
      "min_height": null,
      "min_width": null,
      "object_fit": null,
      "object_position": null,
      "order": null,
      "overflow": null,
      "overflow_x": null,
      "overflow_y": null,
      "padding": null,
      "right": null,
      "top": null,
      "visibility": null,
      "width": null
     }
    },
    "42e06f05128a4516b9fa47b778c209f6": {
     "model_module": "@jupyter-widgets/controls",
     "model_name": "SliderStyleModel",
     "state": {
      "_model_module": "@jupyter-widgets/controls",
      "_model_module_version": "1.5.0",
      "_model_name": "SliderStyleModel",
      "_view_count": null,
      "_view_module": "@jupyter-widgets/base",
      "_view_module_version": "1.2.0",
      "_view_name": "StyleView",
      "description_width": "",
      "handle_color": null
     }
    },
    "4324e07ecaf74043a150e6425f667ad9": {
     "model_module": "@jupyter-widgets/controls",
     "model_name": "VBoxModel",
     "state": {
      "_dom_classes": [
       "widget-interact"
      ],
      "_model_module": "@jupyter-widgets/controls",
      "_model_module_version": "1.5.0",
      "_model_name": "VBoxModel",
      "_view_count": null,
      "_view_module": "@jupyter-widgets/controls",
      "_view_module_version": "1.5.0",
      "_view_name": "VBoxView",
      "box_style": "",
      "children": [
       "IPY_MODEL_c01851063e5e4de08b5a81c6415ad546",
       "IPY_MODEL_c31c10f8d1ae43918b8b1171dafdba7a"
      ],
      "layout": "IPY_MODEL_f2496efece184d9a80eb1fce499d7961"
     }
    },
    "48ea8c6541a34cfbab14438d2b67896e": {
     "model_module": "@jupyter-widgets/output",
     "model_name": "OutputModel",
     "state": {
      "_dom_classes": [],
      "_model_module": "@jupyter-widgets/output",
      "_model_module_version": "1.0.0",
      "_model_name": "OutputModel",
      "_view_count": null,
      "_view_module": "@jupyter-widgets/output",
      "_view_module_version": "1.0.0",
      "_view_name": "OutputView",
      "layout": "IPY_MODEL_ee3512014c9d4ffdbd188b9cc55b3f0d",
      "msg_id": "",
      "outputs": [
       {
        "metadata": {
         "tags": []
        },
        "output_type": "stream",
        "stream": "stdout",
        "text": "prediction accuracy on the train set is  0.8494623655913979\nprediction accuracy on the test set is  0.8974358974358975\n"
       },
       {
        "image/png": "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\n",
        "metadata": {
         "needs_background": "light",
         "tags": []
        },
        "output_type": "display_data",
        "text/plain": "<Figure size 432x288 with 1 Axes>"
       }
      ]
     }
    },
    "4f18a5eaaf034fbaa1d7ab28b0a0970a": {
     "model_module": "@jupyter-widgets/controls",
     "model_name": "IntSliderModel",
     "state": {
      "_dom_classes": [],
      "_model_module": "@jupyter-widgets/controls",
      "_model_module_version": "1.5.0",
      "_model_name": "IntSliderModel",
      "_view_count": null,
      "_view_module": "@jupyter-widgets/controls",
      "_view_module_version": "1.5.0",
      "_view_name": "IntSliderView",
      "continuous_update": true,
      "description": "feature2",
      "description_tooltip": null,
      "disabled": false,
      "layout": "IPY_MODEL_baeb59a0f1ac4f87b70d6343d8e43dee",
      "max": 10,
      "min": 0,
      "orientation": "horizontal",
      "readout": true,
      "readout_format": "d",
      "step": 1,
      "style": "IPY_MODEL_a0326cfea36d4171a19c451f618bee40",
      "value": 1
     }
    },
    "51811963c0f6405fade5ef25a6797744": {
     "model_module": "@jupyter-widgets/controls",
     "model_name": "VBoxModel",
     "state": {
      "_dom_classes": [
       "widget-interact"
      ],
      "_model_module": "@jupyter-widgets/controls",
      "_model_module_version": "1.5.0",
      "_model_name": "VBoxModel",
      "_view_count": null,
      "_view_module": "@jupyter-widgets/controls",
      "_view_module_version": "1.5.0",
      "_view_name": "VBoxView",
      "box_style": "",
      "children": [
       "IPY_MODEL_f42ac48ac9ac4d748b865decb4155866",
       "IPY_MODEL_e3f087f4982a49b798746fd60fdb45a6"
      ],
      "layout": "IPY_MODEL_7878d716b4d44deeb92fcf7df3a5f835"
     }
    },
    "52b7d40f26694d8bb2bbec8bddd9020f": {
     "model_module": "@jupyter-widgets/output",
     "model_name": "OutputModel",
     "state": {
      "_dom_classes": [],
      "_model_module": "@jupyter-widgets/output",
      "_model_module_version": "1.0.0",
      "_model_name": "OutputModel",
      "_view_count": null,
      "_view_module": "@jupyter-widgets/output",
      "_view_module_version": "1.0.0",
      "_view_name": "OutputView",
      "layout": "IPY_MODEL_1570ea22ea094847a55f9a16ef8235f5",
      "msg_id": "",
      "outputs": [
       {
        "image/png": "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\n",
        "metadata": {
         "needs_background": "light",
         "tags": []
        },
        "output_type": "display_data",
        "text/plain": "<Figure size 432x288 with 1 Axes>"
       },
       {
        "metadata": {
         "tags": []
        },
        "output_type": "stream",
        "stream": "stdout",
        "text": "Prediction accuracy on test data:  0.559375\n"
       }
      ]
     }
    },
    "5a21f5fb5d854e4883618f2210b415e6": {
     "model_module": "@jupyter-widgets/base",
     "model_name": "LayoutModel",
     "state": {
      "_model_module": "@jupyter-widgets/base",
      "_model_module_version": "1.2.0",
      "_model_name": "LayoutModel",
      "_view_count": null,
      "_view_module": "@jupyter-widgets/base",
      "_view_module_version": "1.2.0",
      "_view_name": "LayoutView",
      "align_content": null,
      "align_items": null,
      "align_self": null,
      "border": null,
      "bottom": null,
      "display": null,
      "flex": null,
      "flex_flow": null,
      "grid_area": null,
      "grid_auto_columns": null,
      "grid_auto_flow": null,
      "grid_auto_rows": null,
      "grid_column": null,
      "grid_gap": null,
      "grid_row": null,
      "grid_template_areas": null,
      "grid_template_columns": null,
      "grid_template_rows": null,
      "height": null,
      "justify_content": null,
      "justify_items": null,
      "left": null,
      "margin": null,
      "max_height": null,
      "max_width": null,
      "min_height": null,
      "min_width": null,
      "object_fit": null,
      "object_position": null,
      "order": null,
      "overflow": null,
      "overflow_x": null,
      "overflow_y": null,
      "padding": null,
      "right": null,
      "top": null,
      "visibility": null,
      "width": null
     }
    },
    "5dad2a4c140942c5b7e56250496bbce4": {
     "model_module": "@jupyter-widgets/base",
     "model_name": "LayoutModel",
     "state": {
      "_model_module": "@jupyter-widgets/base",
      "_model_module_version": "1.2.0",
      "_model_name": "LayoutModel",
      "_view_count": null,
      "_view_module": "@jupyter-widgets/base",
      "_view_module_version": "1.2.0",
      "_view_name": "LayoutView",
      "align_content": null,
      "align_items": null,
      "align_self": null,
      "border": null,
      "bottom": null,
      "display": null,
      "flex": null,
      "flex_flow": null,
      "grid_area": null,
      "grid_auto_columns": null,
      "grid_auto_flow": null,
      "grid_auto_rows": null,
      "grid_column": null,
      "grid_gap": null,
      "grid_row": null,
      "grid_template_areas": null,
      "grid_template_columns": null,
      "grid_template_rows": null,
      "height": null,
      "justify_content": null,
      "justify_items": null,
      "left": null,
      "margin": null,
      "max_height": null,
      "max_width": null,
      "min_height": null,
      "min_width": null,
      "object_fit": null,
      "object_position": null,
      "order": null,
      "overflow": null,
      "overflow_x": null,
      "overflow_y": null,
      "padding": null,
      "right": null,
      "top": null,
      "visibility": null,
      "width": null
     }
    },
    "5db39fe9471046b2805a88ff1134bfca": {
     "model_module": "@jupyter-widgets/controls",
     "model_name": "VBoxModel",
     "state": {
      "_dom_classes": [
       "widget-interact"
      ],
      "_model_module": "@jupyter-widgets/controls",
      "_model_module_version": "1.5.0",
      "_model_name": "VBoxModel",
      "_view_count": null,
      "_view_module": "@jupyter-widgets/controls",
      "_view_module_version": "1.5.0",
      "_view_name": "VBoxView",
      "box_style": "",
      "children": [
       "IPY_MODEL_073f9d2d706e40c9b97532979cad45e9",
       "IPY_MODEL_4f18a5eaaf034fbaa1d7ab28b0a0970a",
       "IPY_MODEL_e4f1ca1e01744f70b5346205db985534"
      ],
      "layout": "IPY_MODEL_19ed5d9d1abf4dba89d4adefb3bfb39a"
     }
    },
    "65c59cd7855e48cd9cc035829dbfadda": {
     "model_module": "@jupyter-widgets/base",
     "model_name": "LayoutModel",
     "state": {
      "_model_module": "@jupyter-widgets/base",
      "_model_module_version": "1.2.0",
      "_model_name": "LayoutModel",
      "_view_count": null,
      "_view_module": "@jupyter-widgets/base",
      "_view_module_version": "1.2.0",
      "_view_name": "LayoutView",
      "align_content": null,
      "align_items": null,
      "align_self": null,
      "border": null,
      "bottom": null,
      "display": null,
      "flex": null,
      "flex_flow": null,
      "grid_area": null,
      "grid_auto_columns": null,
      "grid_auto_flow": null,
      "grid_auto_rows": null,
      "grid_column": null,
      "grid_gap": null,
      "grid_row": null,
      "grid_template_areas": null,
      "grid_template_columns": null,
      "grid_template_rows": null,
      "height": null,
      "justify_content": null,
      "justify_items": null,
      "left": null,
      "margin": null,
      "max_height": null,
      "max_width": null,
      "min_height": null,
      "min_width": null,
      "object_fit": null,
      "object_position": null,
      "order": null,
      "overflow": null,
      "overflow_x": null,
      "overflow_y": null,
      "padding": null,
      "right": null,
      "top": null,
      "visibility": null,
      "width": null
     }
    },
    "6b91245ce6cd4ec1a940920562503231": {
     "model_module": "@jupyter-widgets/controls",
     "model_name": "SliderStyleModel",
     "state": {
      "_model_module": "@jupyter-widgets/controls",
      "_model_module_version": "1.5.0",
      "_model_name": "SliderStyleModel",
      "_view_count": null,
      "_view_module": "@jupyter-widgets/base",
      "_view_module_version": "1.2.0",
      "_view_name": "StyleView",
      "description_width": "",
      "handle_color": null
     }
    },
    "6cbce2a645d04ea994eb32b07390fbae": {
     "model_module": "@jupyter-widgets/base",
     "model_name": "LayoutModel",
     "state": {
      "_model_module": "@jupyter-widgets/base",
      "_model_module_version": "1.2.0",
      "_model_name": "LayoutModel",
      "_view_count": null,
      "_view_module": "@jupyter-widgets/base",
      "_view_module_version": "1.2.0",
      "_view_name": "LayoutView",
      "align_content": null,
      "align_items": null,
      "align_self": null,
      "border": null,
      "bottom": null,
      "display": null,
      "flex": null,
      "flex_flow": null,
      "grid_area": null,
      "grid_auto_columns": null,
      "grid_auto_flow": null,
      "grid_auto_rows": null,
      "grid_column": null,
      "grid_gap": null,
      "grid_row": null,
      "grid_template_areas": null,
      "grid_template_columns": null,
      "grid_template_rows": null,
      "height": null,
      "justify_content": null,
      "justify_items": null,
      "left": null,
      "margin": null,
      "max_height": null,
      "max_width": null,
      "min_height": null,
      "min_width": null,
      "object_fit": null,
      "object_position": null,
      "order": null,
      "overflow": null,
      "overflow_x": null,
      "overflow_y": null,
      "padding": null,
      "right": null,
      "top": null,
      "visibility": null,
      "width": null
     }
    },
    "72d5cc82d51a4792b7390b8e3b3d7f9d": {
     "model_module": "@jupyter-widgets/base",
     "model_name": "LayoutModel",
     "state": {
      "_model_module": "@jupyter-widgets/base",
      "_model_module_version": "1.2.0",
      "_model_name": "LayoutModel",
      "_view_count": null,
      "_view_module": "@jupyter-widgets/base",
      "_view_module_version": "1.2.0",
      "_view_name": "LayoutView",
      "align_content": null,
      "align_items": null,
      "align_self": null,
      "border": null,
      "bottom": null,
      "display": null,
      "flex": null,
      "flex_flow": null,
      "grid_area": null,
      "grid_auto_columns": null,
      "grid_auto_flow": null,
      "grid_auto_rows": null,
      "grid_column": null,
      "grid_gap": null,
      "grid_row": null,
      "grid_template_areas": null,
      "grid_template_columns": null,
      "grid_template_rows": null,
      "height": null,
      "justify_content": null,
      "justify_items": null,
      "left": null,
      "margin": null,
      "max_height": null,
      "max_width": null,
      "min_height": null,
      "min_width": null,
      "object_fit": null,
      "object_position": null,
      "order": null,
      "overflow": null,
      "overflow_x": null,
      "overflow_y": null,
      "padding": null,
      "right": null,
      "top": null,
      "visibility": null,
      "width": null
     }
    },
    "7878d716b4d44deeb92fcf7df3a5f835": {
     "model_module": "@jupyter-widgets/base",
     "model_name": "LayoutModel",
     "state": {
      "_model_module": "@jupyter-widgets/base",
      "_model_module_version": "1.2.0",
      "_model_name": "LayoutModel",
      "_view_count": null,
      "_view_module": "@jupyter-widgets/base",
      "_view_module_version": "1.2.0",
      "_view_name": "LayoutView",
      "align_content": null,
      "align_items": null,
      "align_self": null,
      "border": null,
      "bottom": null,
      "display": null,
      "flex": null,
      "flex_flow": null,
      "grid_area": null,
      "grid_auto_columns": null,
      "grid_auto_flow": null,
      "grid_auto_rows": null,
      "grid_column": null,
      "grid_gap": null,
      "grid_row": null,
      "grid_template_areas": null,
      "grid_template_columns": null,
      "grid_template_rows": null,
      "height": null,
      "justify_content": null,
      "justify_items": null,
      "left": null,
      "margin": null,
      "max_height": null,
      "max_width": null,
      "min_height": null,
      "min_width": null,
      "object_fit": null,
      "object_position": null,
      "order": null,
      "overflow": null,
      "overflow_x": null,
      "overflow_y": null,
      "padding": null,
      "right": null,
      "top": null,
      "visibility": null,
      "width": null
     }
    },
    "7ec18b59b6dc452083827453db68be1b": {
     "model_module": "@jupyter-widgets/controls",
     "model_name": "SliderStyleModel",
     "state": {
      "_model_module": "@jupyter-widgets/controls",
      "_model_module_version": "1.5.0",
      "_model_name": "SliderStyleModel",
      "_view_count": null,
      "_view_module": "@jupyter-widgets/base",
      "_view_module_version": "1.2.0",
      "_view_name": "StyleView",
      "description_width": "",
      "handle_color": null
     }
    },
    "80c1b0f256ee4497b4ec9289264a389c": {
     "model_module": "@jupyter-widgets/controls",
     "model_name": "IntSliderModel",
     "state": {
      "_dom_classes": [],
      "_model_module": "@jupyter-widgets/controls",
      "_model_module_version": "1.5.0",
      "_model_name": "IntSliderModel",
      "_view_count": null,
      "_view_module": "@jupyter-widgets/controls",
      "_view_module_version": "1.5.0",
      "_view_name": "IntSliderView",
      "continuous_update": true,
      "description": "degree_poly",
      "description_tooltip": null,
      "disabled": false,
      "layout": "IPY_MODEL_feeb15973b08437fa24d1423482309a0",
      "max": 10,
      "min": 1,
      "orientation": "horizontal",
      "readout": true,
      "readout_format": "d",
      "step": 1,
      "style": "IPY_MODEL_2b00a9afceca4ca593c5483a05f95758",
      "value": 3
     }
    },
    "820820170e444d52bfb3a69be2d87711": {
     "model_module": "@jupyter-widgets/output",
     "model_name": "OutputModel",
     "state": {
      "_dom_classes": [],
      "_model_module": "@jupyter-widgets/output",
      "_model_module_version": "1.0.0",
      "_model_name": "OutputModel",
      "_view_count": null,
      "_view_module": "@jupyter-widgets/output",
      "_view_module_version": "1.0.0",
      "_view_name": "OutputView",
      "layout": "IPY_MODEL_5dad2a4c140942c5b7e56250496bbce4",
      "msg_id": "",
      "outputs": [
       {
        "metadata": {
         "tags": []
        },
        "output_type": "stream",
        "stream": "stdout",
        "text": "Prediction accuracy on test data:  0.728125\n"
       }
      ]
     }
    },
    "919a9feb658a47a99e447cb002701722": {
     "model_module": "@jupyter-widgets/output",
     "model_name": "OutputModel",
     "state": {
      "_dom_classes": [],
      "_model_module": "@jupyter-widgets/output",
      "_model_module_version": "1.0.0",
      "_model_name": "OutputModel",
      "_view_count": null,
      "_view_module": "@jupyter-widgets/output",
      "_view_module_version": "1.0.0",
      "_view_name": "OutputView",
      "layout": "IPY_MODEL_ef450a0882094857b63233eba1a1a26d",
      "msg_id": "",
      "outputs": [
       {
        "metadata": {
         "tags": []
        },
        "output_type": "stream",
        "stream": "stdout",
        "text": "Test accuracy on the test set is  0.9230769230769231\n"
       },
       {
        "image/png": "iVBORw0KGgoAAAANSUhEUgAAAXwAAAD4CAYAAADvsV2wAAAABHNCSVQICAgIfAhkiAAAAAlwSFlzAAALEgAACxIB0t1+/AAAADh0RVh0U29mdHdhcmUAbWF0cGxvdGxpYiB2ZXJzaW9uMy4yLjIsIGh0dHA6Ly9tYXRwbG90bGliLm9yZy+WH4yJAAAgAElEQVR4nO2de5RcdZXvP7sf6UBDEkICCXkYEnJHGYwk9gICGRczDBFpJVExKHpFR2Dm3vHawB2dRhRalkjLrAWEi3OdiFxxiJqAGDN0RhJwWDzGoA0JCYgMIQZIaCAQ0pGE9CO97x9V1amuPqfqnDrPqtqftXp11alT57f7dNU+++z9/e2fqCqGYRhG9VOXtAGGYRhGPJjDNwzDqBHM4RuGYdQI5vANwzBqBHP4hmEYNUJD0gYUY9KkSTpr1qykzTAMw6gYnnzyyTdVdbLTa6l2+LNmzaK7uztpMwzDMCoGEXnJ7TVL6RiGYdQIgR2+iMwQkf8Qkd+LyLMi0uawj4jIbSKyTUS2iMiCoOMahmEY/ggjpTMI/G9VfUpEjgaeFJENqvr7vH0+AszN/pwO/N/sb8MwDCMmAkf4qtqjqk9lH/8JeA6YVrDbEuDHmmEjMEFEpgYd2zAMw/BOqDl8EZkFzAeeKHhpGvBK3vOdjL4o5I5xuYh0i0j37t27wzTPMAyjpgnN4YvIUcDPgStUdV+5x1HVFaraoqotkyc7KouMtLJlNdxyCnRMyPzesjppiwzDyCMUWaaINJJx9itV9T6HXXYBM/KeT89uM6qFLavh374CA+9mnve+knkOMG9ZcnYZhjFMGCodAX4IPKeqN7vsthb4fFatcwbQq6o9Qcc2UsRD1x929jkG3s1sNwwjFYQR4Z8F/Hdgq4hszm77OjATQFW/D6wDzge2AQeAL4YwrpEmenf6224YRuwEdviq+hggJfZR4O+DjmWkmPHTM2kcp+2GYaQCm2lrhMM510LjESO3NR6R2W4YRiowh2+Ew7xl8LHbYPwMQDK/P3abFWwNI0WkunmaUWHMW2YO3jBSjEX4hmEYNYI5fOMwNnHKMKoaS+kYGWzilGFUPRbhGxls4pRhVD3m8I0MaZ84ZekmwwiMOXwjg9sEqTRMnMqlm3pfAfRwusmcvmH4why+kSHNE6cs3WQYoWAO38iQ5olTaU83GUaFYCod4zBpnThlfXoMIxQswjfST5rTTYZRQZjDN9JPmtNNhlFBWErHqAzSmm4yjArCInzDMIwawRy+YRhGjWAO3zAMo0Ywh28YhlEjhOLwReROEXlDRJ5xef1sEekVkc3ZH9PTGYYfrJeQEQJhqXR+BNwO/LjIPo+q6kdDGs8wagdrXW2ERCgRvqo+AuwJ41iGYRRgvYSMkIgzh79QRJ4WkX8XkT9320lELheRbhHp3r17d4zmGYZP4kqzWC8hIyTicvhPAe9R1Q8A/wdY47ajqq5Q1RZVbZk8eXJM5hmGT+Js2Zzm1tVGRRGLw1fVfar6TvbxOqBRRCbFMbaREqqt6BhnmsV6CRkhEYvDF5EpIiLZx6dlx30rjrGNFFCNC5jEmWaxXkJGSISi0hGRnwJnA5NEZCdwHdAIoKrfBy4E/oeIDALvAp9WVQ1jbKMCKBYNV6rTirtls/USMkIgFIevqp8p8frtZGSbRi1SjUXHc64dKZUES7MYqcdm2hrRU41FR0uzGBWItUc2oqdao2FLsxgVhkX4aaDaFCyF1Eo0XO3/R6PisQg/abxOm9+yOlPk7N2ZSYWcc21lOcxqj4at/YFRAViEnzRe9NzVKGusNqz9gVEBmMNPGi8KFnMm6acalUhG1WEOP2m8KFjMmaSfalQiGVWHOfyk8TJt3pxJ+rH2B0YFYA4/abwoWMyZpJ9aUSIZFY2kucNBS0uLdnd3J21GOqh0lY4Dn/3Bb3j8xfCXUThrzkRWXrYw9OMaRiUgIk+qaovja+bwjThYs2kXV63azFCCNnzujJl8e+n7E7TAMKKnmMM3Hb4RCd9Ys5W7N76ctBkjuHvjy6NssrsBo5Ywh2+ExppNu/jqPZsZSDKM98njL+5hVnsXAALcctGpLJ0/LVmjDCMiLKWTJio0Tx9VLj5p7AKQMir0+xE3lsOvBAqn5kNGiZNipUca0zZRMfe4ZjZcdXbSZtQuFfj9SApz+JXALae4LKgxA658Jn57SnDS1V0Mpvej45mGcZtomvwA0rgXHZhA3+4PM7hvftH3hJb3t4jVOxX2/UgSK9pWAhUym3bedb9iX9+hWMZqaqjju5+cNyqlElYKqWHcJsZOvQ+pGwBAxuxl7NT7OAhFnX5+3r9s5Y81W/NHhXw/0o45/LQQ95J5PlmzaRdXrNoc+nHLiZYd98+Llt9uPI7r9n+StUOLih6nafIDw84+h9QN0DT5gZJRfo6c8sd3yqcal32MkpR/PyoFc/hpIcWLhLz3mnUcPBQ8f1MncPOyCIqgBdHyMQOvc1vz/+O2j80f4TwLaw7SuNfxcG7bi/HCG/uHo35PFzGLWP2R4u9HJRFKDl9E7gQ+Cryhqqc4vC7AcuB84ADwBVV9qtRxayqHD6nM6eacWBAin/BUZn73A3d+iKH6t0dtH+qfwP4X2wObVdTxW07aPyn8fqSRyIu2IvIh4B3gxy4O/3zgf5Fx+KcDy1X19FLHrTmHnzKCOPtYZ7V2TACcPscCHe7Retf2Ljr+s4ODhw4Ob9OhRg72fMJzSscL45rq2fKt80Zu9KM6MUdn+CDyoq2qPiIis4rssoTMxUCBjSIyQUSmqmpPGOMb4RIkX5/IzNUy87uts1sBWP7Ucl7b/xpTmqfQtqCNgd5TuXLVZsdLSDns6zs0fPG8NafrzznsUo7cirtGiIQmy8w6/PtdIvz7gU5VfSz7/CHgH1V1VPguIpcDlwPMnDnzgy+99FIo9hneKFcB4xjFxkWEGu01m3aF6vxz3Op1QpelfgyfVJQsU1VXACsgk9JJ2JyaohxnL8AfO1ujMcgrXqPlMlg6f9qwYw5TqXTFqs203/s0f7jh/OI7WnHXCJG4HP4uYEbe8+nZbUZKWLNpl29nn6rZpzEskp7v/E+/YQOv/6k/0PEOHtLSev645IhWJ6gJ4loAZS3weclwBtBr+ft04TdyvfWiU9Pj7BPgiWvOZUdnKzs6Wzn+6DGBj3f3xpc56WqHInkci9/kUmK9rwB6uE6wZXV4YxipICyVzk+Bs4FJwOvAdUAjgKp+PyvLvB04j4ws84tO+ftCTKUTD37VODuSTuGklLBmIY+qh0QdfVudoKqwXjqGK35SE6nI11cAYbV+iE3aWqas1UgnxRy+rWlbw6zZtMuzsx/XVG/O3iMrL1vIjs5WPnfGzEDHuXvjy8xq72LNpojLXW71AGtbUHWYw69hvObtG4TkJJcVzLeXvp8dna3cetGpgY5zxarNvPeadSFZ5UAcdQIjFZjDr1H85O233Rh/ZN+1vYvF9y5m3l3zWHzvYrq2B2/xkBRL509jR2crZ82ZWPYxcoqeSKL9ecsycxbGzwAk89v6zFcllsOvQfwsXBKkQNu1vYsbn7iR3v5eACY0TaD9tPbhGa7F3lfY8mBs/Vg6zuwo+d5KIAw9v+eJW0bNYTl8YwRenX2QVETX9i6+8dg3hp09wN6+vXzz8W+WjNaXP7V8hLMHOHjoIMufWl62PWkijIj/ilWbOffmh8MzyqgJzOHXGJ/9wW887Xf80WMCRZDLn1rOoA6O2j4wNFDScb+233mKxmv7XyvbnjSSK+7OPa65rPfnWjJHXtQ1qgZz+DWGV7ngE9ecG2icYs65qOPespopg85a9inNUwLZlFY2XHV2oLspi/YNr5jDryG+sWarp/3CmFhVzDkXddwPXU/bnrcZOzQ0YvNYVdoWtAW2K63k0jzlOv4X3tjPV75+NX03zISO8Zmf755os2WNEZjDryG85O7PmjMx4yRuOSUzIeeWU8pyGm0L2miQ0a2aGusaizvu3p207j9Ax5t7mDowiKgydWCQjt17qqJgW4qc4/eb5rmg7jH+qfFfaBo4XDPh3T3wy783p28Mk7pumUayrDz9lVD6r+ecs2+VTrZZWOv+A7TuP5C3fYb7e6qQDVed7UvN87WG1TSJQyrsUL+tk2sMY7LMGsFLn5ez5kxk5TuXJdtXJcLe9lHTtb1r1GIqYdyVeHH825supk7cXrUWCbWEyTINT029Vl62MPn+6xU6CSg3d6Bnfw+K0rO/h47/7AhlwlguzTO23tWj86pOcn2th2MD22BUB+bwawAvxdphTXga+qrMW5a5m+jYm/mdcmcP8cwd+MMN57sWdW8aXEaf1o/a3q8NrB88lZ3XzglUkzGqA3P4NYCXYu3wOrQp6qtSSe0V3KSmYc8dyEX7DQXB/tqhRXx14G95a+goVEEV9uhR/PTQ2Xyq/hGm171J1fa6D0FkUCuYwzdGkpKUSpQpkihwk5pGNXdg242ju3GuHVrEB/tXcGLfTzix7ycs6FvBOXWbOVIKOqIOvJsp5FYDtniLL8zhG6PTBClIqSTdXsHv3UXbgjbG1o8dsW1s/djAcweK2ZHrxlkY7edzgrzpuH1ob5WsifvQ9SML/FBdF7SQMYdf5XhppeCnhUJcaRa3VEjP/p7Ixy7n7qJ1disdZ3YwtXkqgjC1eWrgZm9e7dh2o3tfHrdi7qt6LCf6XOkslSQtMqgwzOFXOWGsvJQjzjRLsVRI1GOXe3fROruV9ReuZ8slW1h/4frAkkw/dqy8bKFjQfemwWUc0JFr7h7QMdw0uAzF//KWiVAsR58GkUEFYQ6/xvGzKlOcaRanFEkhBw8dpPO3naHfcXgqwMZQKPRbCM4VdPNZO7SI9oFL2Tk0iSEVdg5Non3gUtYOLRreJ9UN2Erl6KMSGVRpITgUhy8i54nI8yKyTUTaHV7/gojsFpHN2Z9LwxjXKI4XOaafNVPjUqLA6BSJG3v79oZ+x1GyABtTobDcQnChZn/t0CIW9d/G7L6VLOq/bYSzz3HFqs2eey3FSqkcfRQigyouBAd2+CJSD3wP+AhwMvAZETnZYddVqnpq9ueOoOMapfHa994rcStR8lMkU5unenpPGHccJQuwMRUKgxSCi2n23bh748ue22fHhpccfdgigyouBIcR4Z8GbFPV7araD/wMWBLCcY2UEZUSpdyx3Qh6x+FWgAUy6aNjYPH0E+hqPnLkG0MuFAYtBDuleErx+It70uX0k8jRV3EhOIzmadOA/OYrO4HTHfb7pIh8CPgv4EpVdWjYAiJyOXA5wMyZ3vPLhn/85O/hcEO05Rtv5LX+vUwZPETbO+/S+s7+KMxzHjuvV82BgQMjVtTKEcYdR+vs1hGOdcSyiyL0NDbQMSmjjBlu8haBEyq0oxx2dLb6Ks7mnP7wZLwkOeda595KUU4EzDbwc9xe4cRVtP03YJaqzgM2AHe57aiqK1S1RVVbJk+eHJN5tYmf/H2O1nf2s/6P29iy4xXW73yV1t3x5TcLVTBXn351bHccjgXrujqWHzMh8yQkJxSV7LViI/0kJgKmaLZ52ITh8HcB+b1rp2e3DaOqb6lqX/bpHcAHQxjXSIIU5Tej0L674VqwbqgPzQlFLXst1YCtkMdf3JMO9U7cEwFTMts8CsJw+L8D5orIiSIyBvg0sDZ/BxHJr7hdADwXwrhGEpSZ34wqcm2d3UrbgjamNE/htf2vsfyp5bHOC5hy1AmhOaG4GrD5SeWlVr0TNSmYbR4FgR2+qg4CXwYeIOPIV6vqsyJyvYhckN3tKyLyrIg8DXwF+ELQcSuGlOp5/ebvhymjiBZl5BrXZLA4CtZxyV6/vfT9vv7/qVTvGGURSg5fVdep6n9T1TmqekN227Wqujb7+GpV/XNV/YCq/qWq/iGMcVNHoXO//6rU6nnLyd8DZeU3y45cPVwsvRw7jLuLMNJHpeyIU/bq1+k//uKe2oz0qwxb4jAsCldq6n0Fuu8EClYUy+W7K/UWMWf3Q9dn0jjjp2ecfZG/p6zI1eF8dj34VZY/cxuvDewbXlGqZ39P0WOPUNfA8B0A4DvX71Ux47TyFVDSjrYFbSP2gWhlr7mLvtf5GndvfJmW90z01XvJSBfm8MPCqZhZ6OxzVLqed94yXxesKc1THB1z0ci14Hx2NR9JxzFHcTC7SHfP/h6++fg3i44Jxe8Aoijuul1gxjaMLWmHk/Q0rGUS3fj20vfzx93veO65dMWqzebwKxjrpRMWfpx4Feh5/VBW/rvgfC4/ZgIH60Z+XAeGBoqOCcXvLqIoJLtdYPb2Oa8pW2hf2A3YvLDysoWMaxq9WpYbFdFwzXDEHH5YuDrxAhlcleh5/VBW/rvgfL7W4N0h5cYE97uI8U3jIyn2+i2wRtWWwi9bvnUexx89pvSOWeZd96sIrTGiwhx+WLgVM1v+pir1vH7xHbkWnM8pg6UXYc+R33fH7e5CVSORQPpx4HG1pfDKE9ec69pXv5B9fYc49+aHozXICB1z+GHhNlnjozdXpZ43cgrOZ1tfPWOlccQujXWNNMjIMlShE3W7u9jXv89x2KASSD89f6KaJBYEP+mdF97Yb8qdCkNUXQqLKaClpUW7u7v9vWnLal8KkmqmWK7V71T7NOCmfimnyLn43sWOheSpzVNZf+H60GwSEYZ0KPA4ceMnT1+Jn6VqRkSeVNUWp9eqK8Kv4j7WhjPlFjnDmEjlNukLGLbpO4u+k1iH0SD4ceJVsVRijVBdDj9FfV6McAl7Rm0YE6m8TPoKs99PXOsJ5/DaT1/xtnaykTzVpcOv4j7WYbNm066K0lNHoacP2nrY64SyMFochzmBzCtL50/jnu6XPWn0w1w72YiO6orwbUFjz/zDPU8nbYIv4lxe0Qtd27sQce48GYXUMs71hPNZedlC5h7X7Gnf02/YEKktRnCqy+FXcR/rsBkciqZYH1XaYXzTeF/boyQXbTsVY93y8+Wcl/z3lGoh4eUY5f4/Nlx1Ng0euiq//qf+dLRTNlypLodfxX2sK4EoO1e6qcmSUJk5RdsAdVI3Kj/ftb2Lv/jZX9D+aLuv81J4Lt0odjcR5v9j243e0kZXrNrs+9iRkNIutUlTXQ4fqraPdSUQZdrBTTe/r29v7F9mt6haVR2XRXRqq1DqvLhdVPIppfYJ+//htbtm4lG+qfVcqT6Hb3gm7JmSUebZXVsHDx6K/cvstY1xKadd7LwUe82r2ifs/4fXltqJR/mm1nPFHH4N88Ib4S4+HmU/d0fd/NAQbW/vjf3L7FXDX8qxFjsvbq9NbZ7qec5BFP8Pr1LNRKN8U+u5Yg6/ivHaFyUs3NoK9OzvCVzAHdazDwwiqkwdGKTjzT207j+Q2SHGL7NXbX0xx9ogDUXTMWFMDItila58Ke8FdY/x2JivsL3pYh4b8xUuqHts+LVEo3xT67lSXTp8YwQrL1sYayvb/H7uhaqSMHTjrbNbaf3lP2ZzswVkv8y5Vgc9+3uokzqGdIipzVND7yvvRVvvtKBJDjdJZ/7xIVhv/Kj669960an8+p7b6Wy8gyOlH4Dp8iadjXfAAKwdWgRkJmOtvGxhoLHK4pxrRy6eA6bWy1J9vXTSSIL9fUo5/LPmTIzkSxlWr5pRFK6EBZkv88duo+uoZlcHO7Z+rKcZrk69cUa8x+f/smt7F19/7OuOEs46qeM7i76TugZqXth57Rym1705evvQJBb13zb8PLE+OzXcUyvyXjoicp6IPC8i20Sk3eH1JhFZlX39CRGZFca4FUHCioFSPc7DnCEZhm68JEWkt8WKpF7UKSVljA7/y64Hv8rinyxy1bm3zm51lY4O6VAkC67HwbS6txy3nyDO24sShYTS1HqOBHb4IlIPfA/4CHAy8BkROblgty8Bb6vqScAtwHeDjlsxJKwYeOKac2MZJwzduGdcvsylLialXi8pY3RZdrFnoLeozr3Y33zw0EE6f9tZ1K40Ii758Ff12BHPS/bYMQllrIQR4Z8GbFPV7araD/wMWFKwzxLgruzje4FzpFQSs1qoAMVAGD3Nw9CNB6XUxaTU6yVljB6WXXS6kyjVI39v397Ki/LPuZZ+aRqx6YCO4abBkZF0yTtIk1DGShgOfxqQX0Xbmd3muI+qDgK9wLE4ICKXi0i3iHTv3r07BPMSpgIUA3dvfDnwMcLQjQelmGP1crEpKWP0uOyiU/O0jjM7qBP3r1vUPXFCZ94yxnz8dnYOTWJIhZ1Dk2gfuHS4YOuZCgiIqonUqXRUdQWwAjJF24TNCU4KFANzj2sOXXNfyJTmKdEUaX1QqBLyo9Lp2t7FgYEDo7bnLhRd27tYfvwEXjsmM9mr7e29TBk8RE/j6K+Q04UjN3b7o6NKXEByTeACMW8Z39/+vmABw/jpRVVXRriEEeHvAmbkPZ+e3ea4j4g0AOOBMqo7FUjY/X38Frjuv4oNf/oEf2y6mG1Nn+NbDXc67ha0n3kUmu9yyC2IsvWSrTz9+afZesnWkpOUcvWH3v7eEdsnNE2g48wOgEx9YqAXFaGnsYH2yceyt76eRhkZ5Rf7m1tntzJ+jHOzt7QsZu4XL7Nvi07CsoaHsRJGhP87YK6InEjGsX8auLhgn7XAJcBvgAuBX2ua9aBhM29ZOCqBQklirsCVG6OQ+6+C7h8CIAINDPH5+gcBuG7wb0bsGlStE5XmOw6K1R+c5hQAIMK7Ag0IE5om0NvX6+lvvvr0q0dJRythBawg/MM9T7uvvZD73NaohDJuAjt8VR0UkS8DDwD1wJ2q+qyIXA90q+pa4IfAv4rINmAPmYuC4ZdiBS6nL8iTPxq1SQQ+W//rUQ4fgi+KEsZCH0nglk7Z27fXsfFZPoM6yBENR/Dopx/1NFYlXxjdqANGzzI4TMlW3GEFREZJQsnhq+o6YF3BtmvzHh8EPhXGWDWN3wKXHnLcXO/y9bxq9ebYVsEqOcEpxuO71R+8kn/BKBz3Q9M/xCM7HxllRyU7+EJuvujU5BumGZ6wXjqVhF/FjzirSA65/NsjWhNlFOX2afe6mIff45eSTZYil393GnfV86siWR8gTVTSUpm1jjn8SsJvgeuDXxi1SRVWHvor1yHiWKaunD7tfpy42/FvfOJGxwuGUzM0t+JqIfn5dy9zEeJYltAw3EidLNMogt8C10dvzvx+8keZ9I7U8+PBv3TM3+d4/U/94drsQDl92v0sYu52nN7+3mElTmEzt8I0S+Gi4ZBx7ktOWuKYoillv9e/0zCixBx+peG3wPXRmw87fuCfb9gAJZz6rPauSJteueXMi0kT/VwkvObk3S4YUF5x1eu4lSrBNCofS+nUGF5760SZ2ilHs+9nMQ8/Ofme/T1FG5+tv3C95wVH2ha00VjXWHSfapdgGunGHL7hSJSpHa8LiORT7CJRWMwFRh1/QtME12OHVVBtnd3KkQ1Hur4eR3uJJEh8DVvDM9YPvwZZs2mXJxnd2HrhDzecH4NF3nCSWgKOufZCx+qUk3ciaCuIeXfNc+wWKghbLtlS9nHTzElfX1dSa59YX/waJPJ++EZlsXT+NMbWl25WevCQhtJJMyycUixeFT+FdxVu5GoCXiWghUS5rm9aKXT2xZY+NJLFHH6NkovcG8ZtonlOJ0e9t53mOZ00jNs0Yr8wOmlGiZ9ibuvsVtoWtJVcPLzceQKQnp5CSXFB3WN0Nt7B9Lo3qROYXvcmN435ofW3Twnm8GuYLy7ew9ip91E3Zi8iUDdmL2On3jfK6Z90dfCJQuVGzKXwE1HnO3InGusaaVvQVtY8gRzl1CcqmcLi/tcaVg+vc5tjLH3W3z4lmMOvYR7f869I3cCIbVI3QNPkB0ZsG9Rg3TSDRMyl8BNRl5oYdWTDkbTObi1rnkA+ftU9lcqaTbtGFfdPkNHr3ALW3z4lmMOvYdwcmDSObhj2+It7ys7nu0XM7Y+2B472/UTUpRz2vv59QA3m4ctcU9ap8P+qTnLe2frbpwKbeFXDuE0U0gFnCWMun++lB3o+xRxt4YzXcvDajKzUxKicQ29b0FY7LYz9ttzO4ibFvGlwGZ2Nd4xM61h/+9RgEX7aKDPaKue9TukQHWqkb/eHXd9z98aXfeuuS0XGcfWX8boEYk3l4ctcU9ZN1rt2aBHtA5cOL30YeMEfI1RMh58mCqMtyERHXr4wZb43X9t+qH88fbs/zOC++SVN9aOr9qKBj0unnvt7/S6BWJFsWV2671LHBHCYNwACHc5rAcy77lfs63NuvV2I6e/jp5gO3xy+E16+KFFwyyku63vOgCufie69Wb6xZutw2qZh3CaaJj+ANO5FByY4Xgj8On3X1aOId+3basOx9/87+70FAD4/N5/9wW88r45260WnsrT+cVvNKmZs4pUfcpFy7yuAHs5pxqEj9rvASVjvzfLtpe9nXFM9DeM2eZJrzmr3XmzNKVc6/6LTl049KjlnENJkk6sC6lGPqRofLbfXbNrl2dmfNWdixtkn9V0yHDGHX0iZOc1Q8LvASVjvzWPLt86j6bgHPMk1wcHpl6gj+MmPlyXnDFID8UCUEtNycJ0z0OSScikMAOYty0T942cAxXPufla1WnnZwmS/S4Yj5vALCRIpB3U2fhc4Ceu9BdQ39jpud5JrQsbpr9m0y/PdkVeduu8JUDHcnQWZlBUFbgqonoZ6Fk8/gXmzZrB4+gl0NWebujkFAPOWZT4n46dnPucPXT/inK3ZtMvX3dxwqi+Eu04jXAI5fBGZKCIbROSF7O9jXPY7JCKbsz9rg4wZOeVGymE4Gx/RVqjvLcBNVeMm14RM9Pf6L74eakTn6szcWhrHEFEGnZQVNq4KKBF6GhvQ7O+OSRPpGjfBOQAo8tk99+aHfUX2c49rPvwkpLtOIzyCRvjtwEOqOhd4KPvciXdV9dTszwUBx4yWciPlsJzNvGWZYlnH3sxvPw47yHvzKEeuCTB5aLfzC2VGdMXknI7plBgiyrRNyvLa+/9gXR3Lp8xw/ky4fHZf/fnVvPDGfl/2bLjq7MNPQrzrNMIhqMNfAtyVfXwXsDTg8ZKn3Ei5im5fC/PsQ/0TONjziZJyzbBnWXpxZiPSKTFElGlrjuZUE3HjtYF9zi+4fEan8JYvW0aptm7656IAAA+zSURBVIp9lyKutRjOBJJlisheVZ2QfSzA27nnBfsNApuBQaBTVdcUOeblwOUAM2fO/OBLL71Utn2xEoIsMs14yeHmOiWOmmUZYOJNvuTQqc885Gn4g8xjKNMmL0sfxs3iexc7yl9dpa8un92dQ5NY1H+bpzF96e1j+j/VKoFkmSLyoIg84/CzJH8/zVw53K4e78kacDFwq4jMcRtPVVeoaouqtkyePLmUeemhym9fvXyhC2dZ7hyaxD/2f8nTl9hN6phf4HWLXofTKSHWMYqR9uZovu9CzrmWwYL9D+gYbhr0dt58T64y9U5iBI3wnwfOVtUeEZkKPKyqf1biPT8C7lfVe0sdvyJm2uZP0joiW7N+9+2qnWTiR62Rz1lzJmakeg44zcT1umqV036Gv7uQc29+mPe9+QBfa1jNCfIWr+qx3DS4jLVDi0qOc+tFp7J0/jR/xpUxu9fwTmQzbUXkn4C3VLVTRNqBiar6tYJ9jgEOqGqfiEwCfgMsUdXflzp+6h1+jd6annvzw76LeTmcHISfFITbModxplhCT+kkNLPbz6xZJ8py9lD16c+kidLhHwusBmYCLwHLVHWPiLQAf6eql4rImcC/AENkUki3quoPvRw/9Q6/2j64PhxPfhsGvxx/9BieuObc4edB1oGNO+oPfbwEggavaxq7Ma6pni3fOq98A2o0UIoL66UTFdV0a1rGl9Cr47ig7rFsuuBNXtVJI9IFt150Kv/84hf9FRnz8F2gDEjo48UYNPhpeubG3OOaR0ovyyWpflU1QDGHb/3wgzB+usuXtQInlhQrpLl8EZfOn8bS+dM4sb3LtVpfqNyZLm/S2XgHDGSKvFes2szRJ8yC8SOdqFepY7HJWYvvXRx6mqfYeGURg5z39Bs2jFqZqhzKTuE4MW+ZOfgEsNYKQagmZU4Ax/PHzlbOmjPR8TWnNU6PlH6+1pDRXTeM24QePfoubslJSzwvauJGFP1uio1X1vEjmDuQa4WQ+wnq7Mc11bOjszU8Z28khjn8IMQkA4yFgI5n5WUL2dHZyrim+hHb3dY4PUEyk3qaJo9u1AZwz++9pUc8zzQNqd9NsbuOso4fYtDwjTVbmdXeFSg/n0+DZCSXgfL1RqqwlE5QquXW9JxrnXP4Ph3Plm+dNyK3/6pOYrqD039VjwXcG7IdqnubWe1dCHBLkVRC7i4gXzXjll7x0u+mlAKndXYr7Y86dxApq59O7rNTZj47aAHWjc+dMdP3UpapwmoEjljR1jhMyF+SnL67cPbtAR1D+8ClrB1aRPOcTurGjHb6Q/0T2P/iaMfqpWhYbmHVqwIn7kJxPms27eKqVZsZiuj4Fe/ooeZVQKbSMRJjzaZd/Pqe210n9eQWW8lP6+hQo6fePW6TucqVTnp15HFLQYNIYL3idiFNexsJR6pNLu0TU+kYiZFR8twI3Og4YWtw33wOQsnlFJ14/MU9o2b+ZiLU0WkeL47Ka+tjpzRSWI4wDueeTzHlTeGFLVf8BtLt9KuokWHYWIRvxE4YenCvFGvpUEjcqZqgM12D4EVimWTqKhAW4VuEb6SHnOojDofndBdQSO6i0LagzTFVk6/M8ZLiWLNpF1fft4V3B6LKtPunVPHbibQt9uKZkAQIiRBxsdkifCNxolKalEPDuE2u6aUg9YakCDIztmIjfKhMlU5IxWYr2lYbUX6YE/6ihDUrNAr8KoqSJAy1jXUnjZmQUlGW0qlUnJwvjIwCcuuPQnDHXBhhhHlsj+Q3VYu7gFkKtzkDbtvjJAo5ZZTFacOBGIrNFuGnFbfbu4Yj4F2HvHcYBakUF7vCzPcXa+ZWjDRF+HUCNy87laX1j1de6sJwxiL8GsatmVnhthxhRAEplrMVKm3WbNrFlas2uzZtc6NUM7di9O3+sGMOv9Ti7mHgGMGn4I7MCJEYis3m8NOKXycbRofOCur+mevUmcPrDNRizdzW9hd3+EHmDPjBc3qmjA6nRooJ2GbDC+bw04qb8z1iIgy+G00UUMFytsILQD5rNu3iq/dsZmCodDO3Ugzumx/YwfuZG1CUFN+RGWUScW8uc/hpxc35fuS7mcdRRAExRBhJMOJicMsMxwtp3YTp7LgyU4z0Wy9oaqjju5+cF3/74Aq6IzPSgRVt00zSWuKkx4+CsBtrJXmOarxJmOGMFW0rlbhbL+c7ryOOgf534FA23522gmC5jjbMu5iki6ZVekdmREfQRcw/BXQA7wNOU1XHcFxEzgOWA/XAHara6eX4NR/hx4lTtOhECiSaqYlsUyxjNWqXYhF+0BWvngE+ATxSZPB64HvAR4CTgc+IyMkBxzXCxknx4UQaCoLF1ClxElfRdMvqzMWlY0Lm95bV4R7fqBkCOXxVfU5Vny+x22nANlXdrqr9wM+AJUHGNSLAq5NKQ0EwLeqUCNajHUXubqb3FUAPp43M6RtlEMeattOA/PvendltjojI5SLSLSLdu3fvjtw4I4sXJ5WkRDM/yhWXj23cF6M4FrFPy92MURWUdPgi8qCIPOPwE0mUrqorVLVFVVsmT54cxRCGE07Oq64xo/tPeoH2wihXHXrpx30xyhWNB94FyS7cHsU5KvduxtJAhgMlVTqq+tcBx9gFzMh7Pj27zUgTaVZ8uNUXpB50KHk5pB46fMEJ24ZytPZJq4eM1BKHLPN3wFwROZGMo/80cHEM4xp+iVsG6hW3aFaHoCOBTpVxtjQoZ/aztVwwXAiUwxeRj4vITmAh0CUiD2S3nyAi6wBUdRD4MvAA8BywWlWfDWa2UVPEURz1Q5xF43nLMmmi8TMomlrLT+E43RFEZZ9RUQSK8FX1F8AvHLa/Cpyf93wdsC7IWEYNk7YeP3G3NCh15+V5DkUKFFZGosSh0jGMYHiNcuMiDnWOH7zMoYjaPisSVwTWWsGoDNJUX0hbgbtoqkait8+KxBWDOXzDKIc0XYBcU0wxtXiwInHFYCkdw6h0kk4xpWXms1ESc/iGUekkXeNIm4rKcMVSOoZRDSSZYkqbispwxSJ8wzCCkfQdhuEZi/ANwwhOmorYhisW4RuGYdQI5vANIy5scpKRMJbSMYw4sMlJRgqwCN8w4sAWMjFSgDl8w4gDm5xkpABz+IYRBzY5yUgB5vANIw6c2h8gMHdxIuYYtYk5fMOIg3nL4AMXA5K3UeHpn5hax4gNc/iGERcvrAd05DYr3BoxYg7fMOLCCrdGwpjDN4y4sMKtkTBBFzH/lIg8KyJDItJSZL8dIrJVRDaLSHeQMQ2jYkm6b71R8wSdafsM8AngXzzs+5eq+mbA8QyjcvG6NOKW1elZPtGoKgI5fFV9DkBESu1qGAaU7ippLRiMCIkrh6/AehF5UkQuL7ajiFwuIt0i0r179+6YzDOMlGAtGIwIKRnhi8iDwBSHl65R1V96HGeRqu4SkeOADSLyB1V9xGlHVV0BrABoaWlRp30Mo2oxJY8RISUdvqr+ddBBVHVX9vcbIvIL4DTA0eEbRk0zfnomjeO03TACEnlKR0SaReTo3GNgMZlir1GNWM/3YJiSx4iQoLLMj4vITmAh0CUiD2S3nyAi67K7HQ88JiJPA78FulT1V0HGNVJKruDY+wqghwuO5vS9Y+vDGhEiqulNk7e0tGh3t8n2K4ZbTnFJR8yAK+2mzjDiQESeVFXHeVE209YIDys4GkaqMYdvhIe1DjCMVGMO3wgPKzgaRqoxh2+EhxUcDSPVBO2lYxgjKdU6wDCMxLAI3zAMo0Ywh28YhlEjmMM3DMOoEczhG4Zh1Ajm8A3DMGqEVLdWEJHdwEshHW4SUEkrblWSvZVkK5i9UWP2Rkspe9+jqpOdXki1ww8TEel26y+RRirJ3kqyFczeqDF7oyWIvZbSMQzDqBHM4RuGYdQIteTwVyRtgE8qyd5KshXM3qgxe6OlbHtrJodvGIZR69RShG8YhlHTmMM3DMOoEarW4YvIp0TkWREZEhFXCZOI7BCRrSKyWUQSW0/Rh73nicjzIrJNRNrjtDHPhokiskFEXsj+PsZlv0PZ87pZRNYmYGfRcyUiTSKyKvv6EyIyK24bC+wpZe8XRGR33jm9NAk7s7bcKSJviIjj2pWS4bbs37JFRBbEbWOBPaXsPVtEevPObaKLOIjIDBH5DxH5fdYvtDns4/8cq2pV/gDvA/4MeBhoKbLfDmBSJdgL1AMvArOBMcDTwMkJ2HoT0J593A5812W/dxI8nyXPFfA/ge9nH38aWJVye78A3J6UjQW2fAhYADzj8vr5wL8DApwBPJFye88G7k/6vObZMxVYkH18NPBfDp8H3+e4aiN8VX1OVZ9P2g6veLT3NGCbqm5X1X7gZ8CS6K0bxRLgruzju4ClCdhQCi/nKv/vuBc4R0QkRhvzScv/1hOq+giwp8guS4Afa4aNwAQRmRqPdaPxYG+qUNUeVX0q+/hPwHPAtILdfJ/jqnX4PlBgvYg8KSKXJ21MCaYBr+Q938noD0EcHK+qPdnHrwHHu+w3VkS6RWSjiMR9UfByrob3UdVBoBc4NhbrRuP1f/vJ7O37vSIyIx7TyiItn1U/LBSRp0Xk30Xkz5M2Jkc21TgfeKLgJd/nuKJXvBKRB4EpDi9do6q/9HiYRaq6S0SOAzaIyB+y0UDohGRvLBSzNf+JqqqIuGl735M9t7OBX4vIVlV9MWxba4h/A36qqn0i8rdk7k7+KmGbqoWnyHxe3xGR84E1wNyEbUJEjgJ+DlyhqvuCHq+iHb6q/nUIx9iV/f2GiPyCzK11JA4/BHt3AflR3fTsttApZquIvC4iU1W1J3sL+YbLMXLndruIPEwmSonL4Xs5V7l9dopIAzAeeCse80ZR0l5VzbftDjK1lLQS22c1DPKdqaquE5F/FpFJqppYUzURaSTj7Feq6n0Ou/g+xzWd0hGRZhE5OvcYWAw4VvFTwu+AuSJyooiMIVNojF39kh3zkuzjS4BRdycicoyINGUfTwLOAn4fm4XezlX+33Eh8GvNVsMSoKS9BfnZC8jkddPKWuDzWSXJGUBvXhowdYjIlFz9RkROI+Mbk7r4k7Xlh8Bzqnqzy27+z3HS1egIq9wfJ5PT6gNeBx7Ibj8BWJd9PJuMGuJp4FkyqZXU2quHK/P/RSZSTsReMnnuh4AXgAeBidntLcAd2cdnAluz53Yr8KUE7Bx1roDrgQuyj8cC9wDbgN8CsxP+zJay98bs5/Rp4D+A9yZo60+BHmAg+7n9EvB3wN9lXxfge9m/ZStFlHIpsffLeed2I3BmwvYuIlNf3AJszv6cH/QcW2sFwzCMGqGmUzqGYRi1hDl8wzCMGsEcvmEYRo1gDt8wDKNGMIdvGIZRI5jDNwzDqBHM4RuGYdQI/x/lddFK7G1nZgAAAABJRU5ErkJggg==\n",
        "metadata": {
         "needs_background": "light",
         "tags": []
        },
        "output_type": "display_data",
        "text/plain": "<Figure size 432x288 with 1 Axes>"
       }
      ]
     }
    },
    "9eb01fb46f1a4196911cc0e32c1d2ae3": {
     "model_module": "@jupyter-widgets/base",
     "model_name": "LayoutModel",
     "state": {
      "_model_module": "@jupyter-widgets/base",
      "_model_module_version": "1.2.0",
      "_model_name": "LayoutModel",
      "_view_count": null,
      "_view_module": "@jupyter-widgets/base",
      "_view_module_version": "1.2.0",
      "_view_name": "LayoutView",
      "align_content": null,
      "align_items": null,
      "align_self": null,
      "border": null,
      "bottom": null,
      "display": null,
      "flex": null,
      "flex_flow": null,
      "grid_area": null,
      "grid_auto_columns": null,
      "grid_auto_flow": null,
      "grid_auto_rows": null,
      "grid_column": null,
      "grid_gap": null,
      "grid_row": null,
      "grid_template_areas": null,
      "grid_template_columns": null,
      "grid_template_rows": null,
      "height": null,
      "justify_content": null,
      "justify_items": null,
      "left": null,
      "margin": null,
      "max_height": null,
      "max_width": null,
      "min_height": null,
      "min_width": null,
      "object_fit": null,
      "object_position": null,
      "order": null,
      "overflow": null,
      "overflow_x": null,
      "overflow_y": null,
      "padding": null,
      "right": null,
      "top": null,
      "visibility": null,
      "width": null
     }
    },
    "9f52d0a24e0a4013a6eb74f01911cdef": {
     "model_module": "@jupyter-widgets/controls",
     "model_name": "IntSliderModel",
     "state": {
      "_dom_classes": [],
      "_model_module": "@jupyter-widgets/controls",
      "_model_module_version": "1.5.0",
      "_model_name": "IntSliderModel",
      "_view_count": null,
      "_view_module": "@jupyter-widgets/controls",
      "_view_module_version": "1.5.0",
      "_view_name": "IntSliderView",
      "continuous_update": true,
      "description": "D",
      "description_tooltip": null,
      "disabled": false,
      "layout": "IPY_MODEL_9eb01fb46f1a4196911cc0e32c1d2ae3",
      "max": 15,
      "min": 1,
      "orientation": "horizontal",
      "readout": true,
      "readout_format": "d",
      "step": 1,
      "style": "IPY_MODEL_d1e5ad67940f4b30a760e90bda83629d",
      "value": 4
     }
    },
    "a0326cfea36d4171a19c451f618bee40": {
     "model_module": "@jupyter-widgets/controls",
     "model_name": "SliderStyleModel",
     "state": {
      "_model_module": "@jupyter-widgets/controls",
      "_model_module_version": "1.5.0",
      "_model_name": "SliderStyleModel",
      "_view_count": null,
      "_view_module": "@jupyter-widgets/base",
      "_view_module_version": "1.2.0",
      "_view_name": "StyleView",
      "description_width": "",
      "handle_color": null
     }
    },
    "a1fa8a96f0774bd4b44fbae76493f83a": {
     "model_module": "@jupyter-widgets/base",
     "model_name": "LayoutModel",
     "state": {
      "_model_module": "@jupyter-widgets/base",
      "_model_module_version": "1.2.0",
      "_model_name": "LayoutModel",
      "_view_count": null,
      "_view_module": "@jupyter-widgets/base",
      "_view_module_version": "1.2.0",
      "_view_name": "LayoutView",
      "align_content": null,
      "align_items": null,
      "align_self": null,
      "border": null,
      "bottom": null,
      "display": null,
      "flex": null,
      "flex_flow": null,
      "grid_area": null,
      "grid_auto_columns": null,
      "grid_auto_flow": null,
      "grid_auto_rows": null,
      "grid_column": null,
      "grid_gap": null,
      "grid_row": null,
      "grid_template_areas": null,
      "grid_template_columns": null,
      "grid_template_rows": null,
      "height": null,
      "justify_content": null,
      "justify_items": null,
      "left": null,
      "margin": null,
      "max_height": null,
      "max_width": null,
      "min_height": null,
      "min_width": null,
      "object_fit": null,
      "object_position": null,
      "order": null,
      "overflow": null,
      "overflow_x": null,
      "overflow_y": null,
      "padding": null,
      "right": null,
      "top": null,
      "visibility": null,
      "width": null
     }
    },
    "a50ffb3cd9fe4dec90a78337727fe9f0": {
     "model_module": "@jupyter-widgets/base",
     "model_name": "LayoutModel",
     "state": {
      "_model_module": "@jupyter-widgets/base",
      "_model_module_version": "1.2.0",
      "_model_name": "LayoutModel",
      "_view_count": null,
      "_view_module": "@jupyter-widgets/base",
      "_view_module_version": "1.2.0",
      "_view_name": "LayoutView",
      "align_content": null,
      "align_items": null,
      "align_self": null,
      "border": null,
      "bottom": null,
      "display": null,
      "flex": null,
      "flex_flow": null,
      "grid_area": null,
      "grid_auto_columns": null,
      "grid_auto_flow": null,
      "grid_auto_rows": null,
      "grid_column": null,
      "grid_gap": null,
      "grid_row": null,
      "grid_template_areas": null,
      "grid_template_columns": null,
      "grid_template_rows": null,
      "height": null,
      "justify_content": null,
      "justify_items": null,
      "left": null,
      "margin": null,
      "max_height": null,
      "max_width": null,
      "min_height": null,
      "min_width": null,
      "object_fit": null,
      "object_position": null,
      "order": null,
      "overflow": null,
      "overflow_x": null,
      "overflow_y": null,
      "padding": null,
      "right": null,
      "top": null,
      "visibility": null,
      "width": null
     }
    },
    "a51b0aaaaafe4c25915098715765b7e8": {
     "model_module": "@jupyter-widgets/controls",
     "model_name": "IntSliderModel",
     "state": {
      "_dom_classes": [],
      "_model_module": "@jupyter-widgets/controls",
      "_model_module_version": "1.5.0",
      "_model_name": "IntSliderModel",
      "_view_count": null,
      "_view_module": "@jupyter-widgets/controls",
      "_view_module_version": "1.5.0",
      "_view_name": "IntSliderView",
      "continuous_update": true,
      "description": "D",
      "description_tooltip": null,
      "disabled": false,
      "layout": "IPY_MODEL_65c59cd7855e48cd9cc035829dbfadda",
      "max": 15,
      "min": 1,
      "orientation": "horizontal",
      "readout": true,
      "readout_format": "d",
      "step": 1,
      "style": "IPY_MODEL_42e06f05128a4516b9fa47b778c209f6",
      "value": 2
     }
    },
    "aada01e8cf7149b6b6541d56a7ea0ad7": {
     "model_module": "@jupyter-widgets/output",
     "model_name": "OutputModel",
     "state": {
      "_dom_classes": [],
      "_model_module": "@jupyter-widgets/output",
      "_model_module_version": "1.0.0",
      "_model_name": "OutputModel",
      "_view_count": null,
      "_view_module": "@jupyter-widgets/output",
      "_view_module_version": "1.0.0",
      "_view_name": "OutputView",
      "layout": "IPY_MODEL_dfd13516095044be8d856a0c43723b48",
      "msg_id": "",
      "outputs": [
       {
        "image/png": "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\n",
        "metadata": {
         "needs_background": "light",
         "tags": []
        },
        "output_type": "display_data",
        "text/plain": "<Figure size 432x288 with 1 Axes>"
       },
       {
        "metadata": {
         "tags": []
        },
        "output_type": "stream",
        "stream": "stdout",
        "text": "Prediction accuracy on the test set is  0.675\n"
       }
      ]
     }
    },
    "abb9fcad1e004e1f8cb44dd99e207c98": {
     "model_module": "@jupyter-widgets/base",
     "model_name": "LayoutModel",
     "state": {
      "_model_module": "@jupyter-widgets/base",
      "_model_module_version": "1.2.0",
      "_model_name": "LayoutModel",
      "_view_count": null,
      "_view_module": "@jupyter-widgets/base",
      "_view_module_version": "1.2.0",
      "_view_name": "LayoutView",
      "align_content": null,
      "align_items": null,
      "align_self": null,
      "border": null,
      "bottom": null,
      "display": null,
      "flex": null,
      "flex_flow": null,
      "grid_area": null,
      "grid_auto_columns": null,
      "grid_auto_flow": null,
      "grid_auto_rows": null,
      "grid_column": null,
      "grid_gap": null,
      "grid_row": null,
      "grid_template_areas": null,
      "grid_template_columns": null,
      "grid_template_rows": null,
      "height": null,
      "justify_content": null,
      "justify_items": null,
      "left": null,
      "margin": null,
      "max_height": null,
      "max_width": null,
      "min_height": null,
      "min_width": null,
      "object_fit": null,
      "object_position": null,
      "order": null,
      "overflow": null,
      "overflow_x": null,
      "overflow_y": null,
      "padding": null,
      "right": null,
      "top": null,
      "visibility": null,
      "width": null
     }
    },
    "b08328b6e96f4ad48bd4f6fc75bbd2b2": {
     "model_module": "@jupyter-widgets/controls",
     "model_name": "SliderStyleModel",
     "state": {
      "_model_module": "@jupyter-widgets/controls",
      "_model_module_version": "1.5.0",
      "_model_name": "SliderStyleModel",
      "_view_count": null,
      "_view_module": "@jupyter-widgets/base",
      "_view_module_version": "1.2.0",
      "_view_name": "StyleView",
      "description_width": "",
      "handle_color": null
     }
    },
    "b391865b6d4e418bbefeb9d1fa06ed45": {
     "model_module": "@jupyter-widgets/base",
     "model_name": "LayoutModel",
     "state": {
      "_model_module": "@jupyter-widgets/base",
      "_model_module_version": "1.2.0",
      "_model_name": "LayoutModel",
      "_view_count": null,
      "_view_module": "@jupyter-widgets/base",
      "_view_module_version": "1.2.0",
      "_view_name": "LayoutView",
      "align_content": null,
      "align_items": null,
      "align_self": null,
      "border": null,
      "bottom": null,
      "display": null,
      "flex": null,
      "flex_flow": null,
      "grid_area": null,
      "grid_auto_columns": null,
      "grid_auto_flow": null,
      "grid_auto_rows": null,
      "grid_column": null,
      "grid_gap": null,
      "grid_row": null,
      "grid_template_areas": null,
      "grid_template_columns": null,
      "grid_template_rows": null,
      "height": null,
      "justify_content": null,
      "justify_items": null,
      "left": null,
      "margin": null,
      "max_height": null,
      "max_width": null,
      "min_height": null,
      "min_width": null,
      "object_fit": null,
      "object_position": null,
      "order": null,
      "overflow": null,
      "overflow_x": null,
      "overflow_y": null,
      "padding": null,
      "right": null,
      "top": null,
      "visibility": null,
      "width": null
     }
    },
    "b6cca40f280c4d2ba0f9c6f6e59cf808": {
     "model_module": "@jupyter-widgets/controls",
     "model_name": "SliderStyleModel",
     "state": {
      "_model_module": "@jupyter-widgets/controls",
      "_model_module_version": "1.5.0",
      "_model_name": "SliderStyleModel",
      "_view_count": null,
      "_view_module": "@jupyter-widgets/base",
      "_view_module_version": "1.2.0",
      "_view_name": "StyleView",
      "description_width": "",
      "handle_color": null
     }
    },
    "baeb59a0f1ac4f87b70d6343d8e43dee": {
     "model_module": "@jupyter-widgets/base",
     "model_name": "LayoutModel",
     "state": {
      "_model_module": "@jupyter-widgets/base",
      "_model_module_version": "1.2.0",
      "_model_name": "LayoutModel",
      "_view_count": null,
      "_view_module": "@jupyter-widgets/base",
      "_view_module_version": "1.2.0",
      "_view_name": "LayoutView",
      "align_content": null,
      "align_items": null,
      "align_self": null,
      "border": null,
      "bottom": null,
      "display": null,
      "flex": null,
      "flex_flow": null,
      "grid_area": null,
      "grid_auto_columns": null,
      "grid_auto_flow": null,
      "grid_auto_rows": null,
      "grid_column": null,
      "grid_gap": null,
      "grid_row": null,
      "grid_template_areas": null,
      "grid_template_columns": null,
      "grid_template_rows": null,
      "height": null,
      "justify_content": null,
      "justify_items": null,
      "left": null,
      "margin": null,
      "max_height": null,
      "max_width": null,
      "min_height": null,
      "min_width": null,
      "object_fit": null,
      "object_position": null,
      "order": null,
      "overflow": null,
      "overflow_x": null,
      "overflow_y": null,
      "padding": null,
      "right": null,
      "top": null,
      "visibility": null,
      "width": null
     }
    },
    "be65a101b92c40a3951d237b529ce888": {
     "model_module": "@jupyter-widgets/controls",
     "model_name": "VBoxModel",
     "state": {
      "_dom_classes": [
       "widget-interact"
      ],
      "_model_module": "@jupyter-widgets/controls",
      "_model_module_version": "1.5.0",
      "_model_name": "VBoxModel",
      "_view_count": null,
      "_view_module": "@jupyter-widgets/controls",
      "_view_module_version": "1.5.0",
      "_view_name": "VBoxView",
      "box_style": "",
      "children": [
       "IPY_MODEL_f3770fcc41d444ea9d7c2c6c08870115",
       "IPY_MODEL_aada01e8cf7149b6b6541d56a7ea0ad7"
      ],
      "layout": "IPY_MODEL_c332e5f335e14aeca7f93cc091d4bdf8"
     }
    },
    "c01851063e5e4de08b5a81c6415ad546": {
     "model_module": "@jupyter-widgets/controls",
     "model_name": "IntSliderModel",
     "state": {
      "_dom_classes": [],
      "_model_module": "@jupyter-widgets/controls",
      "_model_module_version": "1.5.0",
      "_model_name": "IntSliderModel",
      "_view_count": null,
      "_view_module": "@jupyter-widgets/controls",
      "_view_module_version": "1.5.0",
      "_view_name": "IntSliderView",
      "continuous_update": true,
      "description": "D",
      "description_tooltip": null,
      "disabled": false,
      "layout": "IPY_MODEL_abb9fcad1e004e1f8cb44dd99e207c98",
      "max": 15,
      "min": 2,
      "orientation": "horizontal",
      "readout": true,
      "readout_format": "d",
      "step": 1,
      "style": "IPY_MODEL_0b1bcb5adbd64a0eaa78e5ff556cf195",
      "value": 2
     }
    },
    "c2bb2aa8c17b4b44a889e16ab56f1117": {
     "model_module": "@jupyter-widgets/controls",
     "model_name": "VBoxModel",
     "state": {
      "_dom_classes": [
       "widget-interact"
      ],
      "_model_module": "@jupyter-widgets/controls",
      "_model_module_version": "1.5.0",
      "_model_name": "VBoxModel",
      "_view_count": null,
      "_view_module": "@jupyter-widgets/controls",
      "_view_module_version": "1.5.0",
      "_view_name": "VBoxView",
      "box_style": "",
      "children": [
       "IPY_MODEL_f6e21f7829ce4d178ee95b11e5474e9c",
       "IPY_MODEL_52b7d40f26694d8bb2bbec8bddd9020f"
      ],
      "layout": "IPY_MODEL_0e65785968444a25a0ea6c3480617f12"
     }
    },
    "c31c10f8d1ae43918b8b1171dafdba7a": {
     "model_module": "@jupyter-widgets/output",
     "model_name": "OutputModel",
     "state": {
      "_dom_classes": [],
      "_model_module": "@jupyter-widgets/output",
      "_model_module_version": "1.0.0",
      "_model_name": "OutputModel",
      "_view_count": null,
      "_view_module": "@jupyter-widgets/output",
      "_view_module_version": "1.0.0",
      "_view_name": "OutputView",
      "layout": "IPY_MODEL_1b8e83105dcb428fa558b44b3b304064",
      "msg_id": "",
      "outputs": [
       {
        "metadata": {
         "tags": []
        },
        "output_type": "stream",
        "stream": "stdout",
        "text": "Prediction accuracy on test data:  0.721875\n"
       }
      ]
     }
    },
    "c332e5f335e14aeca7f93cc091d4bdf8": {
     "model_module": "@jupyter-widgets/base",
     "model_name": "LayoutModel",
     "state": {
      "_model_module": "@jupyter-widgets/base",
      "_model_module_version": "1.2.0",
      "_model_name": "LayoutModel",
      "_view_count": null,
      "_view_module": "@jupyter-widgets/base",
      "_view_module_version": "1.2.0",
      "_view_name": "LayoutView",
      "align_content": null,
      "align_items": null,
      "align_self": null,
      "border": null,
      "bottom": null,
      "display": null,
      "flex": null,
      "flex_flow": null,
      "grid_area": null,
      "grid_auto_columns": null,
      "grid_auto_flow": null,
      "grid_auto_rows": null,
      "grid_column": null,
      "grid_gap": null,
      "grid_row": null,
      "grid_template_areas": null,
      "grid_template_columns": null,
      "grid_template_rows": null,
      "height": null,
      "justify_content": null,
      "justify_items": null,
      "left": null,
      "margin": null,
      "max_height": null,
      "max_width": null,
      "min_height": null,
      "min_width": null,
      "object_fit": null,
      "object_position": null,
      "order": null,
      "overflow": null,
      "overflow_x": null,
      "overflow_y": null,
      "padding": null,
      "right": null,
      "top": null,
      "visibility": null,
      "width": null
     }
    },
    "c9533f01b8764d17b08ffc7eeef5c98a": {
     "model_module": "@jupyter-widgets/base",
     "model_name": "LayoutModel",
     "state": {
      "_model_module": "@jupyter-widgets/base",
      "_model_module_version": "1.2.0",
      "_model_name": "LayoutModel",
      "_view_count": null,
      "_view_module": "@jupyter-widgets/base",
      "_view_module_version": "1.2.0",
      "_view_name": "LayoutView",
      "align_content": null,
      "align_items": null,
      "align_self": null,
      "border": null,
      "bottom": null,
      "display": null,
      "flex": null,
      "flex_flow": null,
      "grid_area": null,
      "grid_auto_columns": null,
      "grid_auto_flow": null,
      "grid_auto_rows": null,
      "grid_column": null,
      "grid_gap": null,
      "grid_row": null,
      "grid_template_areas": null,
      "grid_template_columns": null,
      "grid_template_rows": null,
      "height": null,
      "justify_content": null,
      "justify_items": null,
      "left": null,
      "margin": null,
      "max_height": null,
      "max_width": null,
      "min_height": null,
      "min_width": null,
      "object_fit": null,
      "object_position": null,
      "order": null,
      "overflow": null,
      "overflow_x": null,
      "overflow_y": null,
      "padding": null,
      "right": null,
      "top": null,
      "visibility": null,
      "width": null
     }
    },
    "cb131650b74544f38392f05b32a065ce": {
     "model_module": "@jupyter-widgets/controls",
     "model_name": "IntSliderModel",
     "state": {
      "_dom_classes": [],
      "_model_module": "@jupyter-widgets/controls",
      "_model_module_version": "1.5.0",
      "_model_name": "IntSliderModel",
      "_view_count": null,
      "_view_module": "@jupyter-widgets/controls",
      "_view_module_version": "1.5.0",
      "_view_name": "IntSliderView",
      "continuous_update": true,
      "description": "D",
      "description_tooltip": null,
      "disabled": false,
      "layout": "IPY_MODEL_e4709d0e74ad4a91ba657f89c5e1d2a8",
      "max": 15,
      "min": 1,
      "orientation": "horizontal",
      "readout": true,
      "readout_format": "d",
      "step": 1,
      "style": "IPY_MODEL_6b91245ce6cd4ec1a940920562503231",
      "value": 2
     }
    },
    "cd3e6507e003498785a8df23cbd59a8d": {
     "model_module": "@jupyter-widgets/base",
     "model_name": "LayoutModel",
     "state": {
      "_model_module": "@jupyter-widgets/base",
      "_model_module_version": "1.2.0",
      "_model_name": "LayoutModel",
      "_view_count": null,
      "_view_module": "@jupyter-widgets/base",
      "_view_module_version": "1.2.0",
      "_view_name": "LayoutView",
      "align_content": null,
      "align_items": null,
      "align_self": null,
      "border": null,
      "bottom": null,
      "display": null,
      "flex": null,
      "flex_flow": null,
      "grid_area": null,
      "grid_auto_columns": null,
      "grid_auto_flow": null,
      "grid_auto_rows": null,
      "grid_column": null,
      "grid_gap": null,
      "grid_row": null,
      "grid_template_areas": null,
      "grid_template_columns": null,
      "grid_template_rows": null,
      "height": null,
      "justify_content": null,
      "justify_items": null,
      "left": null,
      "margin": null,
      "max_height": null,
      "max_width": null,
      "min_height": null,
      "min_width": null,
      "object_fit": null,
      "object_position": null,
      "order": null,
      "overflow": null,
      "overflow_x": null,
      "overflow_y": null,
      "padding": null,
      "right": null,
      "top": null,
      "visibility": null,
      "width": null
     }
    },
    "cd97074da02146af9a1e9c426ac0b073": {
     "model_module": "@jupyter-widgets/base",
     "model_name": "LayoutModel",
     "state": {
      "_model_module": "@jupyter-widgets/base",
      "_model_module_version": "1.2.0",
      "_model_name": "LayoutModel",
      "_view_count": null,
      "_view_module": "@jupyter-widgets/base",
      "_view_module_version": "1.2.0",
      "_view_name": "LayoutView",
      "align_content": null,
      "align_items": null,
      "align_self": null,
      "border": null,
      "bottom": null,
      "display": null,
      "flex": null,
      "flex_flow": null,
      "grid_area": null,
      "grid_auto_columns": null,
      "grid_auto_flow": null,
      "grid_auto_rows": null,
      "grid_column": null,
      "grid_gap": null,
      "grid_row": null,
      "grid_template_areas": null,
      "grid_template_columns": null,
      "grid_template_rows": null,
      "height": null,
      "justify_content": null,
      "justify_items": null,
      "left": null,
      "margin": null,
      "max_height": null,
      "max_width": null,
      "min_height": null,
      "min_width": null,
      "object_fit": null,
      "object_position": null,
      "order": null,
      "overflow": null,
      "overflow_x": null,
      "overflow_y": null,
      "padding": null,
      "right": null,
      "top": null,
      "visibility": null,
      "width": null
     }
    },
    "d1e5ad67940f4b30a760e90bda83629d": {
     "model_module": "@jupyter-widgets/controls",
     "model_name": "SliderStyleModel",
     "state": {
      "_model_module": "@jupyter-widgets/controls",
      "_model_module_version": "1.5.0",
      "_model_name": "SliderStyleModel",
      "_view_count": null,
      "_view_module": "@jupyter-widgets/base",
      "_view_module_version": "1.2.0",
      "_view_name": "StyleView",
      "description_width": "",
      "handle_color": null
     }
    },
    "dfd13516095044be8d856a0c43723b48": {
     "model_module": "@jupyter-widgets/base",
     "model_name": "LayoutModel",
     "state": {
      "_model_module": "@jupyter-widgets/base",
      "_model_module_version": "1.2.0",
      "_model_name": "LayoutModel",
      "_view_count": null,
      "_view_module": "@jupyter-widgets/base",
      "_view_module_version": "1.2.0",
      "_view_name": "LayoutView",
      "align_content": null,
      "align_items": null,
      "align_self": null,
      "border": null,
      "bottom": null,
      "display": null,
      "flex": null,
      "flex_flow": null,
      "grid_area": null,
      "grid_auto_columns": null,
      "grid_auto_flow": null,
      "grid_auto_rows": null,
      "grid_column": null,
      "grid_gap": null,
      "grid_row": null,
      "grid_template_areas": null,
      "grid_template_columns": null,
      "grid_template_rows": null,
      "height": null,
      "justify_content": null,
      "justify_items": null,
      "left": null,
      "margin": null,
      "max_height": null,
      "max_width": null,
      "min_height": null,
      "min_width": null,
      "object_fit": null,
      "object_position": null,
      "order": null,
      "overflow": null,
      "overflow_x": null,
      "overflow_y": null,
      "padding": null,
      "right": null,
      "top": null,
      "visibility": null,
      "width": null
     }
    },
    "e379aa1baf4640f283518d8e8dda98e2": {
     "model_module": "@jupyter-widgets/controls",
     "model_name": "IntSliderModel",
     "state": {
      "_dom_classes": [],
      "_model_module": "@jupyter-widgets/controls",
      "_model_module_version": "1.5.0",
      "_model_name": "IntSliderModel",
      "_view_count": null,
      "_view_module": "@jupyter-widgets/controls",
      "_view_module_version": "1.5.0",
      "_view_name": "IntSliderView",
      "continuous_update": true,
      "description": "D",
      "description_tooltip": null,
      "disabled": false,
      "layout": "IPY_MODEL_2e2d2d92e5d2457dabc85f3bee097fe1",
      "max": 10,
      "min": 1,
      "orientation": "horizontal",
      "readout": true,
      "readout_format": "d",
      "step": 1,
      "style": "IPY_MODEL_7ec18b59b6dc452083827453db68be1b",
      "value": 2
     }
    },
    "e3f087f4982a49b798746fd60fdb45a6": {
     "model_module": "@jupyter-widgets/output",
     "model_name": "OutputModel",
     "state": {
      "_dom_classes": [],
      "_model_module": "@jupyter-widgets/output",
      "_model_module_version": "1.0.0",
      "_model_name": "OutputModel",
      "_view_count": null,
      "_view_module": "@jupyter-widgets/output",
      "_view_module_version": "1.0.0",
      "_view_name": "OutputView",
      "layout": "IPY_MODEL_b391865b6d4e418bbefeb9d1fa06ed45",
      "msg_id": "",
      "outputs": [
       {
        "metadata": {
         "tags": []
        },
        "output_type": "stream",
        "stream": "stdout",
        "text": "prediction accuracy on the train set is  0.7222222222222222\n"
       },
       {
        "image/png": "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\n",
        "metadata": {
         "needs_background": "light",
         "tags": []
        },
        "output_type": "display_data",
        "text/plain": "<Figure size 432x288 with 1 Axes>"
       }
      ]
     }
    },
    "e4709d0e74ad4a91ba657f89c5e1d2a8": {
     "model_module": "@jupyter-widgets/base",
     "model_name": "LayoutModel",
     "state": {
      "_model_module": "@jupyter-widgets/base",
      "_model_module_version": "1.2.0",
      "_model_name": "LayoutModel",
      "_view_count": null,
      "_view_module": "@jupyter-widgets/base",
      "_view_module_version": "1.2.0",
      "_view_name": "LayoutView",
      "align_content": null,
      "align_items": null,
      "align_self": null,
      "border": null,
      "bottom": null,
      "display": null,
      "flex": null,
      "flex_flow": null,
      "grid_area": null,
      "grid_auto_columns": null,
      "grid_auto_flow": null,
      "grid_auto_rows": null,
      "grid_column": null,
      "grid_gap": null,
      "grid_row": null,
      "grid_template_areas": null,
      "grid_template_columns": null,
      "grid_template_rows": null,
      "height": null,
      "justify_content": null,
      "justify_items": null,
      "left": null,
      "margin": null,
      "max_height": null,
      "max_width": null,
      "min_height": null,
      "min_width": null,
      "object_fit": null,
      "object_position": null,
      "order": null,
      "overflow": null,
      "overflow_x": null,
      "overflow_y": null,
      "padding": null,
      "right": null,
      "top": null,
      "visibility": null,
      "width": null
     }
    },
    "e4f1ca1e01744f70b5346205db985534": {
     "model_module": "@jupyter-widgets/output",
     "model_name": "OutputModel",
     "state": {
      "_dom_classes": [],
      "_model_module": "@jupyter-widgets/output",
      "_model_module_version": "1.0.0",
      "_model_name": "OutputModel",
      "_view_count": null,
      "_view_module": "@jupyter-widgets/output",
      "_view_module_version": "1.0.0",
      "_view_name": "OutputView",
      "layout": "IPY_MODEL_a50ffb3cd9fe4dec90a78337727fe9f0",
      "msg_id": "",
      "outputs": [
       {
        "image/png": "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\n",
        "metadata": {
         "needs_background": "light",
         "tags": []
        },
        "output_type": "display_data",
        "text/plain": "<Figure size 432x288 with 1 Axes>"
       }
      ]
     }
    },
    "ee3512014c9d4ffdbd188b9cc55b3f0d": {
     "model_module": "@jupyter-widgets/base",
     "model_name": "LayoutModel",
     "state": {
      "_model_module": "@jupyter-widgets/base",
      "_model_module_version": "1.2.0",
      "_model_name": "LayoutModel",
      "_view_count": null,
      "_view_module": "@jupyter-widgets/base",
      "_view_module_version": "1.2.0",
      "_view_name": "LayoutView",
      "align_content": null,
      "align_items": null,
      "align_self": null,
      "border": null,
      "bottom": null,
      "display": null,
      "flex": null,
      "flex_flow": null,
      "grid_area": null,
      "grid_auto_columns": null,
      "grid_auto_flow": null,
      "grid_auto_rows": null,
      "grid_column": null,
      "grid_gap": null,
      "grid_row": null,
      "grid_template_areas": null,
      "grid_template_columns": null,
      "grid_template_rows": null,
      "height": null,
      "justify_content": null,
      "justify_items": null,
      "left": null,
      "margin": null,
      "max_height": null,
      "max_width": null,
      "min_height": null,
      "min_width": null,
      "object_fit": null,
      "object_position": null,
      "order": null,
      "overflow": null,
      "overflow_x": null,
      "overflow_y": null,
      "padding": null,
      "right": null,
      "top": null,
      "visibility": null,
      "width": null
     }
    },
    "ef450a0882094857b63233eba1a1a26d": {
     "model_module": "@jupyter-widgets/base",
     "model_name": "LayoutModel",
     "state": {
      "_model_module": "@jupyter-widgets/base",
      "_model_module_version": "1.2.0",
      "_model_name": "LayoutModel",
      "_view_count": null,
      "_view_module": "@jupyter-widgets/base",
      "_view_module_version": "1.2.0",
      "_view_name": "LayoutView",
      "align_content": null,
      "align_items": null,
      "align_self": null,
      "border": null,
      "bottom": null,
      "display": null,
      "flex": null,
      "flex_flow": null,
      "grid_area": null,
      "grid_auto_columns": null,
      "grid_auto_flow": null,
      "grid_auto_rows": null,
      "grid_column": null,
      "grid_gap": null,
      "grid_row": null,
      "grid_template_areas": null,
      "grid_template_columns": null,
      "grid_template_rows": null,
      "height": null,
      "justify_content": null,
      "justify_items": null,
      "left": null,
      "margin": null,
      "max_height": null,
      "max_width": null,
      "min_height": null,
      "min_width": null,
      "object_fit": null,
      "object_position": null,
      "order": null,
      "overflow": null,
      "overflow_x": null,
      "overflow_y": null,
      "padding": null,
      "right": null,
      "top": null,
      "visibility": null,
      "width": null
     }
    },
    "f2496efece184d9a80eb1fce499d7961": {
     "model_module": "@jupyter-widgets/base",
     "model_name": "LayoutModel",
     "state": {
      "_model_module": "@jupyter-widgets/base",
      "_model_module_version": "1.2.0",
      "_model_name": "LayoutModel",
      "_view_count": null,
      "_view_module": "@jupyter-widgets/base",
      "_view_module_version": "1.2.0",
      "_view_name": "LayoutView",
      "align_content": null,
      "align_items": null,
      "align_self": null,
      "border": null,
      "bottom": null,
      "display": null,
      "flex": null,
      "flex_flow": null,
      "grid_area": null,
      "grid_auto_columns": null,
      "grid_auto_flow": null,
      "grid_auto_rows": null,
      "grid_column": null,
      "grid_gap": null,
      "grid_row": null,
      "grid_template_areas": null,
      "grid_template_columns": null,
      "grid_template_rows": null,
      "height": null,
      "justify_content": null,
      "justify_items": null,
      "left": null,
      "margin": null,
      "max_height": null,
      "max_width": null,
      "min_height": null,
      "min_width": null,
      "object_fit": null,
      "object_position": null,
      "order": null,
      "overflow": null,
      "overflow_x": null,
      "overflow_y": null,
      "padding": null,
      "right": null,
      "top": null,
      "visibility": null,
      "width": null
     }
    },
    "f3770fcc41d444ea9d7c2c6c08870115": {
     "model_module": "@jupyter-widgets/controls",
     "model_name": "IntSliderModel",
     "state": {
      "_dom_classes": [],
      "_model_module": "@jupyter-widgets/controls",
      "_model_module_version": "1.5.0",
      "_model_name": "IntSliderModel",
      "_view_count": null,
      "_view_module": "@jupyter-widgets/controls",
      "_view_module_version": "1.5.0",
      "_view_name": "IntSliderView",
      "continuous_update": true,
      "description": "D",
      "description_tooltip": null,
      "disabled": false,
      "layout": "IPY_MODEL_c9533f01b8764d17b08ffc7eeef5c98a",
      "max": 16,
      "min": 1,
      "orientation": "horizontal",
      "readout": true,
      "readout_format": "d",
      "step": 1,
      "style": "IPY_MODEL_0f021154f8ba4b29bd00914152e96932",
      "value": 2
     }
    },
    "f42ac48ac9ac4d748b865decb4155866": {
     "model_module": "@jupyter-widgets/controls",
     "model_name": "IntSliderModel",
     "state": {
      "_dom_classes": [],
      "_model_module": "@jupyter-widgets/controls",
      "_model_module_version": "1.5.0",
      "_model_name": "IntSliderModel",
      "_view_count": null,
      "_view_module": "@jupyter-widgets/controls",
      "_view_module_version": "1.5.0",
      "_view_name": "IntSliderView",
      "continuous_update": true,
      "description": "D",
      "description_tooltip": null,
      "disabled": false,
      "layout": "IPY_MODEL_a1fa8a96f0774bd4b44fbae76493f83a",
      "max": 16,
      "min": 1,
      "orientation": "horizontal",
      "readout": true,
      "readout_format": "d",
      "step": 1,
      "style": "IPY_MODEL_b08328b6e96f4ad48bd4f6fc75bbd2b2",
      "value": 2
     }
    },
    "f6e21f7829ce4d178ee95b11e5474e9c": {
     "model_module": "@jupyter-widgets/controls",
     "model_name": "IntSliderModel",
     "state": {
      "_dom_classes": [],
      "_model_module": "@jupyter-widgets/controls",
      "_model_module_version": "1.5.0",
      "_model_name": "IntSliderModel",
      "_view_count": null,
      "_view_module": "@jupyter-widgets/controls",
      "_view_module_version": "1.5.0",
      "_view_name": "IntSliderView",
      "continuous_update": true,
      "description": "D",
      "description_tooltip": null,
      "disabled": false,
      "layout": "IPY_MODEL_26c456c08f15473da6ea1f0819d0ed5c",
      "max": 12,
      "min": 1,
      "orientation": "horizontal",
      "readout": true,
      "readout_format": "d",
      "step": 1,
      "style": "IPY_MODEL_b6cca40f280c4d2ba0f9c6f6e59cf808",
      "value": 1
     }
    },
    "feeb15973b08437fa24d1423482309a0": {
     "model_module": "@jupyter-widgets/base",
     "model_name": "LayoutModel",
     "state": {
      "_model_module": "@jupyter-widgets/base",
      "_model_module_version": "1.2.0",
      "_model_name": "LayoutModel",
      "_view_count": null,
      "_view_module": "@jupyter-widgets/base",
      "_view_module_version": "1.2.0",
      "_view_name": "LayoutView",
      "align_content": null,
      "align_items": null,
      "align_self": null,
      "border": null,
      "bottom": null,
      "display": null,
      "flex": null,
      "flex_flow": null,
      "grid_area": null,
      "grid_auto_columns": null,
      "grid_auto_flow": null,
      "grid_auto_rows": null,
      "grid_column": null,
      "grid_gap": null,
      "grid_row": null,
      "grid_template_areas": null,
      "grid_template_columns": null,
      "grid_template_rows": null,
      "height": null,
      "justify_content": null,
      "justify_items": null,
      "left": null,
      "margin": null,
      "max_height": null,
      "max_width": null,
      "min_height": null,
      "min_width": null,
      "object_fit": null,
      "object_position": null,
      "order": null,
      "overflow": null,
      "overflow_x": null,
      "overflow_y": null,
      "padding": null,
      "right": null,
      "top": null,
      "visibility": null,
      "width": null
     }
    }
   }
  }
 },
 "nbformat": 4,
 "nbformat_minor": 1
}
